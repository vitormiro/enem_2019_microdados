{
 "cells": [
  {
   "cell_type": "markdown",
   "metadata": {},
   "source": [
    "# Análise de Microdados do Enem\n",
    "\n",
    "[Microdados do Enem no site do INEP](https://www.gov.br/inep/pt-br/acesso-a-informacao/dados-abertos/microdados/enem)"
   ]
  },
  {
   "cell_type": "code",
   "execution_count": 1,
   "metadata": {},
   "outputs": [],
   "source": [
    "import pandas as pd\n",
    "import matplotlib.pyplot as plt\n",
    "import seaborn as sns"
   ]
  },
  {
   "cell_type": "code",
   "execution_count": 2,
   "metadata": {},
   "outputs": [
    {
     "name": "stdout",
     "output_type": "stream",
     "text": [
      "LEIA-ME E DOCUMENTOS TÉCNICOS/\n",
      "LEIA-ME E DOCUMENTOS TÉCNICOS/matriz_referencia_enem.pdf\n",
      "LEIA-ME E DOCUMENTOS TÉCNICOS/Leia_Me_Enem_2019.pdf\n",
      "LEIA-ME E DOCUMENTOS TÉCNICOS/manual_de_redacao_do_enem_2019.pdf\n",
      "LEIA-ME E DOCUMENTOS TÉCNICOS/Edital_enem_2019.pdf\n",
      "PROVAS E GABARITOS/\n",
      "PROVAS E GABARITOS/ENEM_2019_P1_CAD_02_DIA_1_AMARELO.pdf\n",
      "PROVAS E GABARITOS/ENEM_2019_P1_CAD_02_DIA_1_AMARELO_AMPLIADA.pdf\n",
      "PROVAS E GABARITOS/ENEM_2019_P1_CAD_02_DIA_1_AMARELO_SUPERAMPLIADA.pdf\n",
      "PROVAS E GABARITOS/ENEM_2019_P1_CAD_03_DIA_1_BRANCO.pdf\n",
      "PROVAS E GABARITOS/ENEM_2019_P1_CAD_04_DIA_1_ROSA.pdf\n",
      "PROVAS E GABARITOS/ENEM_2019_P1_CAD_09_DIA_1_LARANJA_LEDOR.pdf\n",
      "PROVAS E GABARITOS/ENEM_2019_P1_CAD_10_DIA_1_VERDE_LIBRAS.pdf\n",
      "PROVAS E GABARITOS/ENEM_2019_P1_CAD_05_DIA_2_AMARELO.pdf\n",
      "PROVAS E GABARITOS/ENEM_2019_P1_GAB_02_DIA_1_AMARELO.pdf.pdf\n",
      "PROVAS E GABARITOS/ENEM_2019_P1_GAB_02_DIA_1_AMARELO_AMPLIADA.pdf\n",
      "PROVAS E GABARITOS/ENEM_2019_P1_GAB_02_DIA_1_AMARELO_SUPERAMPLIADA.pdf\n",
      "PROVAS E GABARITOS/ENEM_2019_P1_GAB_03_DIA_1_BRANCO.pdf\n",
      "PROVAS E GABARITOS/ENEM_2019_P1_GAB_04_DIA_1_ROSA.pdf\n",
      "PROVAS E GABARITOS/ENEM_2019_P1_GAB_09_DIA_1_LARANJA_LEDOR.pdf\n",
      "PROVAS E GABARITOS/ENEM_2019_P1_GAB_10_DIA_1_VERDE_LIBRAS.pdf\n",
      "PROVAS E GABARITOS/ENEM_2019_P1_GAB_05_DIA_2_AMARELO.pdf\n",
      "PROVAS E GABARITOS/ENEM_2019_P2_GAB_05_DIA_2_AMARELO_SUPERAMPLIADA.pdf\n",
      "PROVAS E GABARITOS/ENEM_2019_P1_CAD_06_DIA_2_CINZA_AMPLIADA.pdf\n",
      "PROVAS E GABARITOS/ENEM_2019_P1_CAD_06_DIA_2_CINZA_SUPERAMPLIADA.pdf\n",
      "PROVAS E GABARITOS/ENEM_2019_P1_CAD_07_DIA_2_AZUL.pdf\n",
      "PROVAS E GABARITOS/ENEM_2019_P1_CAD_08_DIA_2_ROSA.pdf\n",
      "PROVAS E GABARITOS/ENEM_2019_P1_CAD_06_DIA_2_CINZA.pdf\n",
      "PROVAS E GABARITOS/ENEM_2019_P1_CAD_11_DIA_2_LARANJA_LEDOR.pdf\n",
      "PROVAS E GABARITOS/ENEM_2019_P1_CAD_12_DIA_2_VERDE_LIBRAS.pdf\n",
      "PROVAS E GABARITOS/ENEM_2019_P1_GAB_01_DIA_1_AZUL.pdf\n",
      "PROVAS E GABARITOS/ENEM_2019_P1_GAB_06_DIA_2_CINZA.pdf\n",
      "PROVAS E GABARITOS/ENEM_2019_P1_GAB_06_DIA_2_CINZA_AMPLIADA.pdf\n",
      "PROVAS E GABARITOS/ENEM_2019_P1_GAB_06_DIA_2_CINZA_SUPERAMPLIADA.pdf\n",
      "PROVAS E GABARITOS/ENEM_2019_P1_GAB_07_DIA_2_AZUL.pdf\n",
      "PROVAS E GABARITOS/ENEM_2019_P1_GAB_08_DIA_2_ROSA.pdf\n",
      "PROVAS E GABARITOS/ENEM_2019_P1_GAB_11_DIA_2_LARANJA_LEDOR.pdf\n",
      "PROVAS E GABARITOS/ENEM_2019_P1_GAB_12_DIA_2_VERDE_LIBRAS.pdf\n",
      "PROVAS E GABARITOS/ENEM_2019_P2_CAD_01_DIA_1_AZUL.pdf\n",
      "PROVAS E GABARITOS/ENEM_2019_P2_GAB_01_DIA_1_AZUL_AMPLIADA.pdf\n",
      "PROVAS E GABARITOS/ENEM_2019_P2_CAD_01_DIA_1_AZUL_AMPLIADA.pdf\n",
      "PROVAS E GABARITOS/ENEM_2019_P2_CAD_01_DIA_1_AZUL_SUPERAMPLIADA.pdf\n",
      "PROVAS E GABARITOS/ENEM_2019_P2_CAD_02_DIA_1_AMARELO.pdf\n",
      "PROVAS E GABARITOS/ENEM_2019_P2_CAD_03_DIA_1_BRANCO.pdf\n",
      "PROVAS E GABARITOS/ENEM_2019_P2_CAD_04_DIA_1_ROSA.pdf\n",
      "PROVAS E GABARITOS/ENEM_2019_P2_CAD_09_DIA_1_LARANJA_LEDOR.pdf\n",
      "PROVAS E GABARITOS/ENEM_2019_P2_CAD_05_DIA_2_AMARELO.pdf\n",
      "PROVAS E GABARITOS/ENEM_2019_P2_GAB_06_DIA_2_CINZA.pdf\n",
      "PROVAS E GABARITOS/ENEM_2019_P2_GAB_02_DIA_1_AMARELO.pdf\n",
      "PROVAS E GABARITOS/ENEM_2019_P2_GAB_03_DIA_1_BRANCO.pdf\n",
      "PROVAS E GABARITOS/ENEM_2019_P2_GAB_04_DIA_1_ROSA.pdf\n",
      "PROVAS E GABARITOS/ENEM_2019_P2_GAB_09_DIA_1_LARANJA_LEDOR.pdf\n",
      "PROVAS E GABARITOS/ENEM_2019_P2_GAB_05_DIA_2_AMARELO.pdf\n",
      "PROVAS E GABARITOS/ENEM_2019_P2_CAD_05_DIA_2_AMARELO_AMPLIADA.pdf\n",
      "PROVAS E GABARITOS/ENEM_2019_P2_CAD_05_DIA_2_AMARELO_SUPERAMPLIADA.pdf\n",
      "PROVAS E GABARITOS/ENEM_2019_P2_CAD_06_DIA_2_CINZA.pdf\n",
      "PROVAS E GABARITOS/ENEM_2019_P2_CAD_07_DIA_2_AZUL.pdf\n",
      "PROVAS E GABARITOS/ENEM_2019_P2_CAD_08_DIA_2_ROSA.pdf\n",
      "PROVAS E GABARITOS/ENEM_2019_P2_CAD_11_DIA_2_LARANJA_LEDOR.pdf\n",
      "PROVAS E GABARITOS/ENEM_2019_P2_GAB_01_DIA_1_AZUL.pdf\n",
      "PROVAS E GABARITOS/ENEM_2019_P2_GAB_05_DIA_2_AMARELO_AMPLIADA.pdf\n",
      "PROVAS E GABARITOS/ENEM_2019_P1_CAD_01_DIA_1_AZUL.pdf\n",
      "PROVAS E GABARITOS/ENEM_2019_P2_GAB_01_DIA_1_AZUL_SUPERAMPLIADA.pdf\n",
      "PROVAS E GABARITOS/ENEM_2019_P2_GAB_07_DIA_2_AZUL.pdf\n",
      "PROVAS E GABARITOS/ENEM_2019_P2_GAB_08_DIA_2_ROSA.pdf\n",
      "PROVAS E GABARITOS/ENEM_2019_P2_GAB_11_DIA_2_LARANJA_LEDOR.pdf\n",
      "DADOS/\n",
      "DADOS/MICRODADOS_ENEM_2019.csv\n",
      "DADOS/ITENS_PROVA_2019.csv\n",
      "DICION╡RIO/\n",
      "DICION╡RIO/Dicionário_Microdados_Enem_2019.ods\n",
      "DICION╡RIO/Dicionário_Microdados_Enem_2019.xlsx\n",
      "INPUTS/\n",
      "INPUTS/INPUT_R_MICRODADOS_ENEM_2019.R\n",
      "INPUTS/INPUT_SAS_ITENS_PROVA_2019.sas\n",
      "INPUTS/INPUT_SAS_MICRODADOS_ENEM_2019.sas\n",
      "INPUTS/INPUT_SPSS_ITENS_PROVA_2019.sps\n",
      "INPUTS/INPUT_SPSS_MICRODADOS_ENEM_2019.sps\n",
      "INPUTS/INPUT_R_ITENS_PROVA_2019.R\n"
     ]
    }
   ],
   "source": [
    "import zipfile\n",
    "\n",
    "with zipfile.ZipFile('microdados_enem_2019.zip') as z:\n",
    "    print(*z.namelist(), sep=\"\\n\")"
   ]
  },
  {
   "cell_type": "markdown",
   "metadata": {},
   "source": [
    "Considerando o tamanho da base de dados, vamos inicialmente carregar apenas os nomes das variáveis e escolher quais delas estarão no dataframe analisado."
   ]
  },
  {
   "cell_type": "code",
   "execution_count": 3,
   "metadata": {},
   "outputs": [],
   "source": [
    "with zipfile.ZipFile('microdados_enem_2019.zip') as z:\n",
    "    with z.open('DADOS/MICRODADOS_ENEM_2019.csv') as dados:\n",
    "        dfcol = pd.read_csv(dados, sep=';', encoding='ISO-8859-1', nrows=0)"
   ]
  },
  {
   "cell_type": "code",
   "execution_count": 4,
   "metadata": {},
   "outputs": [
    {
     "data": {
      "text/plain": [
       "array(['NU_INSCRICAO', 'NU_ANO', 'CO_MUNICIPIO_RESIDENCIA',\n",
       "       'NO_MUNICIPIO_RESIDENCIA', 'CO_UF_RESIDENCIA', 'SG_UF_RESIDENCIA',\n",
       "       'NU_IDADE', 'TP_SEXO', 'TP_ESTADO_CIVIL', 'TP_COR_RACA',\n",
       "       'TP_NACIONALIDADE', 'CO_MUNICIPIO_NASCIMENTO',\n",
       "       'NO_MUNICIPIO_NASCIMENTO', 'CO_UF_NASCIMENTO', 'SG_UF_NASCIMENTO',\n",
       "       'TP_ST_CONCLUSAO', 'TP_ANO_CONCLUIU', 'TP_ESCOLA', 'TP_ENSINO',\n",
       "       'IN_TREINEIRO', 'CO_ESCOLA', 'CO_MUNICIPIO_ESC',\n",
       "       'NO_MUNICIPIO_ESC', 'CO_UF_ESC', 'SG_UF_ESC',\n",
       "       'TP_DEPENDENCIA_ADM_ESC', 'TP_LOCALIZACAO_ESC', 'TP_SIT_FUNC_ESC',\n",
       "       'IN_BAIXA_VISAO', 'IN_CEGUEIRA', 'IN_SURDEZ',\n",
       "       'IN_DEFICIENCIA_AUDITIVA', 'IN_SURDO_CEGUEIRA',\n",
       "       'IN_DEFICIENCIA_FISICA', 'IN_DEFICIENCIA_MENTAL',\n",
       "       'IN_DEFICIT_ATENCAO', 'IN_DISLEXIA', 'IN_DISCALCULIA',\n",
       "       'IN_AUTISMO', 'IN_VISAO_MONOCULAR', 'IN_OUTRA_DEF', 'IN_GESTANTE',\n",
       "       'IN_LACTANTE', 'IN_IDOSO', 'IN_ESTUDA_CLASSE_HOSPITALAR',\n",
       "       'IN_SEM_RECURSO', 'IN_BRAILLE', 'IN_AMPLIADA_24', 'IN_AMPLIADA_18',\n",
       "       'IN_LEDOR', 'IN_ACESSO', 'IN_TRANSCRICAO', 'IN_LIBRAS',\n",
       "       'IN_TEMPO_ADICIONAL', 'IN_LEITURA_LABIAL', 'IN_MESA_CADEIRA_RODAS',\n",
       "       'IN_MESA_CADEIRA_SEPARADA', 'IN_APOIO_PERNA', 'IN_GUIA_INTERPRETE',\n",
       "       'IN_COMPUTADOR', 'IN_CADEIRA_ESPECIAL', 'IN_CADEIRA_CANHOTO',\n",
       "       'IN_CADEIRA_ACOLCHOADA', 'IN_PROVA_DEITADO', 'IN_MOBILIARIO_OBESO',\n",
       "       'IN_LAMINA_OVERLAY', 'IN_PROTETOR_AURICULAR', 'IN_MEDIDOR_GLICOSE',\n",
       "       'IN_MAQUINA_BRAILE', 'IN_SOROBAN', 'IN_MARCA_PASSO', 'IN_SONDA',\n",
       "       'IN_MEDICAMENTOS', 'IN_SALA_INDIVIDUAL', 'IN_SALA_ESPECIAL',\n",
       "       'IN_SALA_ACOMPANHANTE', 'IN_MOBILIARIO_ESPECIFICO',\n",
       "       'IN_MATERIAL_ESPECIFICO', 'IN_NOME_SOCIAL', 'CO_MUNICIPIO_PROVA',\n",
       "       'NO_MUNICIPIO_PROVA', 'CO_UF_PROVA', 'SG_UF_PROVA',\n",
       "       'TP_PRESENCA_CN', 'TP_PRESENCA_CH', 'TP_PRESENCA_LC',\n",
       "       'TP_PRESENCA_MT', 'CO_PROVA_CN', 'CO_PROVA_CH', 'CO_PROVA_LC',\n",
       "       'CO_PROVA_MT', 'NU_NOTA_CN', 'NU_NOTA_CH', 'NU_NOTA_LC',\n",
       "       'NU_NOTA_MT', 'TX_RESPOSTAS_CN', 'TX_RESPOSTAS_CH',\n",
       "       'TX_RESPOSTAS_LC', 'TX_RESPOSTAS_MT', 'TP_LINGUA',\n",
       "       'TX_GABARITO_CN', 'TX_GABARITO_CH', 'TX_GABARITO_LC',\n",
       "       'TX_GABARITO_MT', 'TP_STATUS_REDACAO', 'NU_NOTA_COMP1',\n",
       "       'NU_NOTA_COMP2', 'NU_NOTA_COMP3', 'NU_NOTA_COMP4', 'NU_NOTA_COMP5',\n",
       "       'NU_NOTA_REDACAO', 'Q001', 'Q002', 'Q003', 'Q004', 'Q005', 'Q006',\n",
       "       'Q007', 'Q008', 'Q009', 'Q010', 'Q011', 'Q012', 'Q013', 'Q014',\n",
       "       'Q015', 'Q016', 'Q017', 'Q018', 'Q019', 'Q020', 'Q021', 'Q022',\n",
       "       'Q023', 'Q024', 'Q025'], dtype=object)"
      ]
     },
     "execution_count": 4,
     "metadata": {},
     "output_type": "execute_result"
    }
   ],
   "source": [
    "# Imprimir nomes das variáveis\n",
    "dfcol.columns.values"
   ]
  },
  {
   "cell_type": "code",
   "execution_count": 5,
   "metadata": {},
   "outputs": [],
   "source": [
    "# Selecionar informações/variáveis considerando objetivos da análise \n",
    "colunas_selecionadas = ['NU_INSCRICAO', 'NU_ANO', 'CO_MUNICIPIO_RESIDENCIA',\n",
    "                        'NO_MUNICIPIO_RESIDENCIA', 'SG_UF_RESIDENCIA',\n",
    "                        'NU_IDADE', 'TP_SEXO', 'TP_COR_RACA',\n",
    "                        'TP_ST_CONCLUSAO', 'TP_ANO_CONCLUIU', 'TP_ESCOLA', 'TP_ENSINO',\n",
    "                        'CO_ESCOLA', 'CO_MUNICIPIO_ESC', 'NO_MUNICIPIO_ESC', 'CO_UF_ESC', 'SG_UF_ESC',\n",
    "                        'TP_DEPENDENCIA_ADM_ESC', 'TP_LOCALIZACAO_ESC', 'TP_SIT_FUNC_ESC', 'TP_PRESENCA_CN', \n",
    "                        'TP_PRESENCA_CH', 'TP_PRESENCA_LC', 'TP_PRESENCA_MT', 'TP_STATUS_REDACAO',\n",
    "                        'CO_PROVA_CN', 'CO_PROVA_CH', 'CO_PROVA_LC', 'CO_PROVA_MT', \n",
    "                        'NU_NOTA_CN', 'NU_NOTA_CH', 'NU_NOTA_LC', 'NU_NOTA_MT', 'NU_NOTA_REDACAO',\n",
    "                        'Q001', 'Q002', 'Q003', 'Q004', 'Q005', 'Q006', 'Q024', 'Q025']"
   ]
  },
  {
   "cell_type": "markdown",
   "metadata": {},
   "source": [
    "### Dicionário de informações/variáveis selecionadas\n",
    "\n",
    "**Dados do participante**\n",
    "\n",
    "- NU_INSCRICAO:\tNúmero de inscrição1 \n",
    "- NU_ANO: Ano do Enem\n",
    "- CO_MUNICIPIO_RESIDENCIA:\tCódigo do município de residência \n",
    "\t- 1º dígito: Região\n",
    "\t- 1º e 2º dígitos: UF\n",
    "\t- 3º, 4º, 5º e 6º dígitos: Município\n",
    "\t- 7º dígito: dígito verificador\n",
    "- NO_MUNICIPIO_RESIDENCIA:\tNome do município de residência\n",
    "- SG_UF_RESIDENCIA:\tSigla da Unidade da Federação de residência\n",
    "- NU_IDADE:\tIdade\n",
    "- TP_SEXO:\tSexo\n",
    "- TP_COR_RACA:\tCor/raça\n",
    "\n",
    "- TP_ST_CONCLUSAO: Situação de conclusão do Ensino Médio\n",
    "- TP_ANO_CONCLUIU: Ano de Conclusão do Ensino Médio\n",
    "- TP_ESCOLA: Tipo de escola do Ensino Médio\n",
    "- TP_ENSINO: Tipo de instituição que concluiu ou concluirá o Ensino Médio \n",
    "\n",
    "**Dados da escola**\n",
    "- CO_ESCOLA\tCódigo da Escola4\n",
    "- CO_MUNICIPIO_ESC\n",
    "\t- Código do município da escola \n",
    "\t- 1º dígito: Região\n",
    "\t- 1º e 2º dígitos: UF\n",
    "\t- 3º, 4º, 5º e 6º dígitos: Município\n",
    "\t- 7º dígito: dígito verificador\n",
    "- NO_MUNICIPIO_ESC\tNome do município da escola\n",
    "- CO_UF_ESC\tCódigo da Unidade da Federação da escola\n",
    "- SG_UF_ESC\tSigla da Unidade da Federação da escola\n",
    "- TP_DEPENDENCIA_ADM_ESC\tDependência administrativa (Escola)\n",
    "    - 1\tFederal\n",
    "    - 2\tEstadual\n",
    "    - 3\tMunicipal\n",
    "    - 4\tPrivada\n",
    "- TP_LOCALIZACAO_ESC\tLocalização (Escola)\n",
    "    - 1 = urbana\n",
    "    - 2 = rural\n",
    "- TP_SIT_FUNC_ESC\tSituação de funcionamento (Escola)\n",
    "\n",
    "\n",
    "**Dados da prova objetiva e da redação**\n",
    "\n",
    "- NU_NOTA_CN:\tNota da prova de Ciências da Natureza\n",
    "- NU_NOTA_CH:\tNota da prova de Ciências Humanas\n",
    "- NU_NOTA_LC:\tNota da prova de Linguagens e Códigos\n",
    "- NU_NOTA_MT:\tNota da prova de Matemática\n",
    "\n",
    "- NU_NOTA_REDACAO:\tNota da prova de redação\n",
    "\n",
    "**Dados do Questionário Socioeconômico**\n",
    "\n",
    "- Q001:\tAté que série seu pai, ou o homem responsável por você, estudou?\n",
    "- Q002: Até que série sua mãe, ou a mulher responsável por você, estudou?\n",
    "- Q003:\t... ocupações divididas em grupos ordenados, indique o grupo que contempla a ocupação mais próxima da ocupação do seu pai ou do homem responsável por você.\n",
    "- Q004:\t... ocupações divididas em grupos ordenados, indique o grupo que contempla a ocupação mais próxima da ocupação da sua mãe ou da mulher responsável por você.\n",
    "- Q005:\tIncluindo você, quantas pessoas moram atualmente em sua residência?\n",
    "- Q006:\tQual é a renda mensal de sua família? (Some a sua renda com a dos seus familiares.)\n",
    "- Q024:\tNa sua residência tem computador?\n",
    "- Q025:\tNa sua residência tem acesso à Internet?"
   ]
  },
  {
   "cell_type": "markdown",
   "metadata": {},
   "source": [
    "Criar um dataframe com os vriáveis selecionadas"
   ]
  },
  {
   "cell_type": "code",
   "execution_count": 6,
   "metadata": {},
   "outputs": [],
   "source": [
    "with zipfile.ZipFile('microdados_enem_2019.zip') as z:\n",
    "    with z.open('DADOS/MICRODADOS_ENEM_2019.csv') as dados:\n",
    "        df = pd.read_csv(dados, sep=';', encoding='ISO-8859-1', usecols= colunas_selecionadas)"
   ]
  },
  {
   "cell_type": "code",
   "execution_count": 7,
   "metadata": {},
   "outputs": [
    {
     "data": {
      "text/html": [
       "<div>\n",
       "<style scoped>\n",
       "    .dataframe tbody tr th:only-of-type {\n",
       "        vertical-align: middle;\n",
       "    }\n",
       "\n",
       "    .dataframe tbody tr th {\n",
       "        vertical-align: top;\n",
       "    }\n",
       "\n",
       "    .dataframe thead th {\n",
       "        text-align: right;\n",
       "    }\n",
       "</style>\n",
       "<table border=\"1\" class=\"dataframe\">\n",
       "  <thead>\n",
       "    <tr style=\"text-align: right;\">\n",
       "      <th></th>\n",
       "      <th>NU_INSCRICAO</th>\n",
       "      <th>NU_ANO</th>\n",
       "      <th>CO_MUNICIPIO_RESIDENCIA</th>\n",
       "      <th>NO_MUNICIPIO_RESIDENCIA</th>\n",
       "      <th>SG_UF_RESIDENCIA</th>\n",
       "      <th>NU_IDADE</th>\n",
       "      <th>TP_SEXO</th>\n",
       "      <th>TP_COR_RACA</th>\n",
       "      <th>TP_ST_CONCLUSAO</th>\n",
       "      <th>TP_ANO_CONCLUIU</th>\n",
       "      <th>...</th>\n",
       "      <th>TP_STATUS_REDACAO</th>\n",
       "      <th>NU_NOTA_REDACAO</th>\n",
       "      <th>Q001</th>\n",
       "      <th>Q002</th>\n",
       "      <th>Q003</th>\n",
       "      <th>Q004</th>\n",
       "      <th>Q005</th>\n",
       "      <th>Q006</th>\n",
       "      <th>Q024</th>\n",
       "      <th>Q025</th>\n",
       "    </tr>\n",
       "  </thead>\n",
       "  <tbody>\n",
       "    <tr>\n",
       "      <th>0</th>\n",
       "      <td>190001004627</td>\n",
       "      <td>2019</td>\n",
       "      <td>1506807</td>\n",
       "      <td>Santarém</td>\n",
       "      <td>PA</td>\n",
       "      <td>21</td>\n",
       "      <td>M</td>\n",
       "      <td>3</td>\n",
       "      <td>1</td>\n",
       "      <td>3</td>\n",
       "      <td>...</td>\n",
       "      <td>1.0</td>\n",
       "      <td>780.0</td>\n",
       "      <td>D</td>\n",
       "      <td>E</td>\n",
       "      <td>A</td>\n",
       "      <td>A</td>\n",
       "      <td>7</td>\n",
       "      <td>B</td>\n",
       "      <td>B</td>\n",
       "      <td>A</td>\n",
       "    </tr>\n",
       "    <tr>\n",
       "      <th>1</th>\n",
       "      <td>190001004628</td>\n",
       "      <td>2019</td>\n",
       "      <td>1504059</td>\n",
       "      <td>Mãe do Rio</td>\n",
       "      <td>PA</td>\n",
       "      <td>16</td>\n",
       "      <td>F</td>\n",
       "      <td>3</td>\n",
       "      <td>3</td>\n",
       "      <td>0</td>\n",
       "      <td>...</td>\n",
       "      <td>1.0</td>\n",
       "      <td>600.0</td>\n",
       "      <td>D</td>\n",
       "      <td>E</td>\n",
       "      <td>A</td>\n",
       "      <td>A</td>\n",
       "      <td>5</td>\n",
       "      <td>B</td>\n",
       "      <td>A</td>\n",
       "      <td>A</td>\n",
       "    </tr>\n",
       "    <tr>\n",
       "      <th>2</th>\n",
       "      <td>190001004629</td>\n",
       "      <td>2019</td>\n",
       "      <td>1505502</td>\n",
       "      <td>Paragominas</td>\n",
       "      <td>PA</td>\n",
       "      <td>18</td>\n",
       "      <td>F</td>\n",
       "      <td>1</td>\n",
       "      <td>2</td>\n",
       "      <td>0</td>\n",
       "      <td>...</td>\n",
       "      <td>1.0</td>\n",
       "      <td>640.0</td>\n",
       "      <td>H</td>\n",
       "      <td>E</td>\n",
       "      <td>A</td>\n",
       "      <td>D</td>\n",
       "      <td>3</td>\n",
       "      <td>C</td>\n",
       "      <td>C</td>\n",
       "      <td>B</td>\n",
       "    </tr>\n",
       "    <tr>\n",
       "      <th>3</th>\n",
       "      <td>190001004630</td>\n",
       "      <td>2019</td>\n",
       "      <td>1507706</td>\n",
       "      <td>São Sebastião da Boa Vista</td>\n",
       "      <td>PA</td>\n",
       "      <td>23</td>\n",
       "      <td>M</td>\n",
       "      <td>3</td>\n",
       "      <td>2</td>\n",
       "      <td>0</td>\n",
       "      <td>...</td>\n",
       "      <td>NaN</td>\n",
       "      <td>NaN</td>\n",
       "      <td>D</td>\n",
       "      <td>D</td>\n",
       "      <td>A</td>\n",
       "      <td>B</td>\n",
       "      <td>3</td>\n",
       "      <td>C</td>\n",
       "      <td>A</td>\n",
       "      <td>A</td>\n",
       "    </tr>\n",
       "    <tr>\n",
       "      <th>4</th>\n",
       "      <td>190001004631</td>\n",
       "      <td>2019</td>\n",
       "      <td>1503903</td>\n",
       "      <td>Juruti</td>\n",
       "      <td>PA</td>\n",
       "      <td>23</td>\n",
       "      <td>M</td>\n",
       "      <td>3</td>\n",
       "      <td>1</td>\n",
       "      <td>5</td>\n",
       "      <td>...</td>\n",
       "      <td>NaN</td>\n",
       "      <td>NaN</td>\n",
       "      <td>B</td>\n",
       "      <td>C</td>\n",
       "      <td>A</td>\n",
       "      <td>A</td>\n",
       "      <td>5</td>\n",
       "      <td>C</td>\n",
       "      <td>A</td>\n",
       "      <td>A</td>\n",
       "    </tr>\n",
       "  </tbody>\n",
       "</table>\n",
       "<p>5 rows × 42 columns</p>\n",
       "</div>"
      ],
      "text/plain": [
       "   NU_INSCRICAO  NU_ANO  CO_MUNICIPIO_RESIDENCIA     NO_MUNICIPIO_RESIDENCIA  \\\n",
       "0  190001004627    2019                  1506807                    Santarém   \n",
       "1  190001004628    2019                  1504059                  Mãe do Rio   \n",
       "2  190001004629    2019                  1505502                 Paragominas   \n",
       "3  190001004630    2019                  1507706  São Sebastião da Boa Vista   \n",
       "4  190001004631    2019                  1503903                      Juruti   \n",
       "\n",
       "  SG_UF_RESIDENCIA  NU_IDADE TP_SEXO  TP_COR_RACA  TP_ST_CONCLUSAO  \\\n",
       "0               PA        21       M            3                1   \n",
       "1               PA        16       F            3                3   \n",
       "2               PA        18       F            1                2   \n",
       "3               PA        23       M            3                2   \n",
       "4               PA        23       M            3                1   \n",
       "\n",
       "   TP_ANO_CONCLUIU  ...  TP_STATUS_REDACAO  NU_NOTA_REDACAO  Q001  Q002 Q003  \\\n",
       "0                3  ...                1.0            780.0     D     E    A   \n",
       "1                0  ...                1.0            600.0     D     E    A   \n",
       "2                0  ...                1.0            640.0     H     E    A   \n",
       "3                0  ...                NaN              NaN     D     D    A   \n",
       "4                5  ...                NaN              NaN     B     C    A   \n",
       "\n",
       "   Q004 Q005  Q006  Q024  Q025  \n",
       "0     A    7     B     B     A  \n",
       "1     A    5     B     A     A  \n",
       "2     D    3     C     C     B  \n",
       "3     B    3     C     A     A  \n",
       "4     A    5     C     A     A  \n",
       "\n",
       "[5 rows x 42 columns]"
      ]
     },
     "execution_count": 7,
     "metadata": {},
     "output_type": "execute_result"
    }
   ],
   "source": [
    "# Visualizar dados (5 primeiras linhas)\n",
    "df.head()"
   ]
  },
  {
   "cell_type": "code",
   "execution_count": 8,
   "metadata": {},
   "outputs": [
    {
     "data": {
      "text/plain": [
       "(5095270, 42)"
      ]
     },
     "execution_count": 8,
     "metadata": {},
     "output_type": "execute_result"
    }
   ],
   "source": [
    "# Dimensão do dataframe\n",
    "df.shape"
   ]
  },
  {
   "cell_type": "code",
   "execution_count": 9,
   "metadata": {},
   "outputs": [
    {
     "name": "stdout",
     "output_type": "stream",
     "text": [
      "<class 'pandas.core.frame.DataFrame'>\n",
      "RangeIndex: 5095270 entries, 0 to 5095269\n",
      "Data columns (total 42 columns):\n",
      " #   Column                   Dtype  \n",
      "---  ------                   -----  \n",
      " 0   NU_INSCRICAO             int64  \n",
      " 1   NU_ANO                   int64  \n",
      " 2   CO_MUNICIPIO_RESIDENCIA  int64  \n",
      " 3   NO_MUNICIPIO_RESIDENCIA  object \n",
      " 4   SG_UF_RESIDENCIA         object \n",
      " 5   NU_IDADE                 int64  \n",
      " 6   TP_SEXO                  object \n",
      " 7   TP_COR_RACA              int64  \n",
      " 8   TP_ST_CONCLUSAO          int64  \n",
      " 9   TP_ANO_CONCLUIU          int64  \n",
      " 10  TP_ESCOLA                int64  \n",
      " 11  TP_ENSINO                float64\n",
      " 12  CO_ESCOLA                float64\n",
      " 13  CO_MUNICIPIO_ESC         float64\n",
      " 14  NO_MUNICIPIO_ESC         object \n",
      " 15  CO_UF_ESC                float64\n",
      " 16  SG_UF_ESC                object \n",
      " 17  TP_DEPENDENCIA_ADM_ESC   float64\n",
      " 18  TP_LOCALIZACAO_ESC       float64\n",
      " 19  TP_SIT_FUNC_ESC          float64\n",
      " 20  TP_PRESENCA_CN           int64  \n",
      " 21  TP_PRESENCA_CH           int64  \n",
      " 22  TP_PRESENCA_LC           int64  \n",
      " 23  TP_PRESENCA_MT           int64  \n",
      " 24  CO_PROVA_CN              float64\n",
      " 25  CO_PROVA_CH              float64\n",
      " 26  CO_PROVA_LC              float64\n",
      " 27  CO_PROVA_MT              float64\n",
      " 28  NU_NOTA_CN               float64\n",
      " 29  NU_NOTA_CH               float64\n",
      " 30  NU_NOTA_LC               float64\n",
      " 31  NU_NOTA_MT               float64\n",
      " 32  TP_STATUS_REDACAO        float64\n",
      " 33  NU_NOTA_REDACAO          float64\n",
      " 34  Q001                     object \n",
      " 35  Q002                     object \n",
      " 36  Q003                     object \n",
      " 37  Q004                     object \n",
      " 38  Q005                     int64  \n",
      " 39  Q006                     object \n",
      " 40  Q024                     object \n",
      " 41  Q025                     object \n",
      "dtypes: float64(17), int64(13), object(12)\n",
      "memory usage: 1.6+ GB\n"
     ]
    }
   ],
   "source": [
    "# Informações básicas do dataframe\n",
    "df.info()"
   ]
  },
  {
   "cell_type": "markdown",
   "metadata": {},
   "source": [
    "Renomear variáveis para facilitar a análise."
   ]
  },
  {
   "cell_type": "code",
   "execution_count": 10,
   "metadata": {},
   "outputs": [],
   "source": [
    "# renomear variáveis\n",
    "df.rename(columns={'SG_UF_RESIDENCIA':'uf_resid',\n",
    "                   'NU_IDADE':'idade',\n",
    "                   'TP_SEXO':'sexo',\n",
    "                   'TP_COR_RACA':'cor',\n",
    "                   'TP_ANO_CONCLUIU':'ano_conclusao',\n",
    "                   'TP_DEPENDENCIA_ADM_ESC':'dep_escola',\n",
    "                   'NU_NOTA_CN':'nota_cnatureza',\n",
    "                   'NU_NOTA_CH':'nota_chumanas',\n",
    "                   'NU_NOTA_LC':'nota_linguagens',\n",
    "                   'NU_NOTA_MT':'nota_matematica',\n",
    "                   'NU_NOTA_REDACAO':'nota_redacao',\n",
    "                   'Q001':'escol_pai',\n",
    "                   'Q002':'escol_mae',\n",
    "                   'Q003':'ocup_pai',\n",
    "                   'Q004':'ocup_mae',\n",
    "                   'Q005':'npessoas_resid',\n",
    "                   'Q006':'renda_familiar',\n",
    "                   'Q024':'computador',\n",
    "                   'Q025':'internet'}, inplace=True)"
   ]
  },
  {
   "cell_type": "markdown",
   "metadata": {},
   "source": [
    "### Análise do desempenho por sexo"
   ]
  },
  {
   "cell_type": "code",
   "execution_count": 11,
   "metadata": {},
   "outputs": [
    {
     "data": {
      "text/html": [
       "<div>\n",
       "<style scoped>\n",
       "    .dataframe tbody tr th:only-of-type {\n",
       "        vertical-align: middle;\n",
       "    }\n",
       "\n",
       "    .dataframe tbody tr th {\n",
       "        vertical-align: top;\n",
       "    }\n",
       "\n",
       "    .dataframe thead th {\n",
       "        text-align: right;\n",
       "    }\n",
       "</style>\n",
       "<table border=\"1\" class=\"dataframe\">\n",
       "  <thead>\n",
       "    <tr style=\"text-align: right;\">\n",
       "      <th></th>\n",
       "      <th>sexo</th>\n",
       "      <th>nota_redacao</th>\n",
       "    </tr>\n",
       "  </thead>\n",
       "  <tbody>\n",
       "    <tr>\n",
       "      <th>0</th>\n",
       "      <td>M</td>\n",
       "      <td>780.0</td>\n",
       "    </tr>\n",
       "    <tr>\n",
       "      <th>1</th>\n",
       "      <td>F</td>\n",
       "      <td>600.0</td>\n",
       "    </tr>\n",
       "    <tr>\n",
       "      <th>2</th>\n",
       "      <td>F</td>\n",
       "      <td>640.0</td>\n",
       "    </tr>\n",
       "    <tr>\n",
       "      <th>3</th>\n",
       "      <td>M</td>\n",
       "      <td>NaN</td>\n",
       "    </tr>\n",
       "    <tr>\n",
       "      <th>4</th>\n",
       "      <td>M</td>\n",
       "      <td>NaN</td>\n",
       "    </tr>\n",
       "  </tbody>\n",
       "</table>\n",
       "</div>"
      ],
      "text/plain": [
       "  sexo  nota_redacao\n",
       "0    M         780.0\n",
       "1    F         600.0\n",
       "2    F         640.0\n",
       "3    M           NaN\n",
       "4    M           NaN"
      ]
     },
     "execution_count": 11,
     "metadata": {},
     "output_type": "execute_result"
    }
   ],
   "source": [
    "# Filtrar sexo e nota da redação\n",
    "sexo_redacao = df.filter(items = ['sexo', 'nota_redacao'])\n",
    "sexo_redacao.head()"
   ]
  },
  {
   "cell_type": "code",
   "execution_count": 12,
   "metadata": {},
   "outputs": [
    {
     "data": {
      "text/html": [
       "<div>\n",
       "<style scoped>\n",
       "    .dataframe tbody tr th:only-of-type {\n",
       "        vertical-align: middle;\n",
       "    }\n",
       "\n",
       "    .dataframe tbody tr th {\n",
       "        vertical-align: top;\n",
       "    }\n",
       "\n",
       "    .dataframe thead th {\n",
       "        text-align: right;\n",
       "    }\n",
       "</style>\n",
       "<table border=\"1\" class=\"dataframe\">\n",
       "  <thead>\n",
       "    <tr style=\"text-align: right;\">\n",
       "      <th></th>\n",
       "      <th>sexo</th>\n",
       "      <th>nota_redacao</th>\n",
       "    </tr>\n",
       "  </thead>\n",
       "  <tbody>\n",
       "    <tr>\n",
       "      <th>0</th>\n",
       "      <td>M</td>\n",
       "      <td>780.0</td>\n",
       "    </tr>\n",
       "    <tr>\n",
       "      <th>1</th>\n",
       "      <td>F</td>\n",
       "      <td>600.0</td>\n",
       "    </tr>\n",
       "    <tr>\n",
       "      <th>2</th>\n",
       "      <td>F</td>\n",
       "      <td>640.0</td>\n",
       "    </tr>\n",
       "    <tr>\n",
       "      <th>5</th>\n",
       "      <td>M</td>\n",
       "      <td>580.0</td>\n",
       "    </tr>\n",
       "    <tr>\n",
       "      <th>6</th>\n",
       "      <td>F</td>\n",
       "      <td>360.0</td>\n",
       "    </tr>\n",
       "  </tbody>\n",
       "</table>\n",
       "</div>"
      ],
      "text/plain": [
       "  sexo  nota_redacao\n",
       "0    M         780.0\n",
       "1    F         600.0\n",
       "2    F         640.0\n",
       "5    M         580.0\n",
       "6    F         360.0"
      ]
     },
     "execution_count": 12,
     "metadata": {},
     "output_type": "execute_result"
    }
   ],
   "source": [
    "# Excluir dados faltantes\n",
    "sexo_redacao = sexo_redacao.dropna()\n",
    "sexo_redacao.head()"
   ]
  },
  {
   "cell_type": "code",
   "execution_count": 13,
   "metadata": {},
   "outputs": [
    {
     "data": {
      "text/plain": [
       "F    2336431\n",
       "M    1586713\n",
       "Name: sexo, dtype: int64"
      ]
     },
     "execution_count": 13,
     "metadata": {},
     "output_type": "execute_result"
    }
   ],
   "source": [
    "# Contar número de observações por sexo\n",
    "sexo_redacao['sexo'].value_counts()"
   ]
  },
  {
   "cell_type": "code",
   "execution_count": 14,
   "metadata": {},
   "outputs": [
    {
     "data": {
      "text/plain": [
       "F    59.555066\n",
       "M    40.444934\n",
       "Name: sexo, dtype: float64"
      ]
     },
     "execution_count": 14,
     "metadata": {},
     "output_type": "execute_result"
    }
   ],
   "source": [
    "# proporções\n",
    "sexo_redacao['sexo'].value_counts(normalize = True) * 100"
   ]
  },
  {
   "cell_type": "code",
   "execution_count": 15,
   "metadata": {},
   "outputs": [
    {
     "data": {
      "text/html": [
       "<div>\n",
       "<style scoped>\n",
       "    .dataframe tbody tr th:only-of-type {\n",
       "        vertical-align: middle;\n",
       "    }\n",
       "\n",
       "    .dataframe tbody tr th {\n",
       "        vertical-align: top;\n",
       "    }\n",
       "\n",
       "    .dataframe thead th {\n",
       "        text-align: right;\n",
       "    }\n",
       "</style>\n",
       "<table border=\"1\" class=\"dataframe\">\n",
       "  <thead>\n",
       "    <tr style=\"text-align: right;\">\n",
       "      <th></th>\n",
       "      <th>nota_redacao</th>\n",
       "    </tr>\n",
       "    <tr>\n",
       "      <th>sexo</th>\n",
       "      <th></th>\n",
       "    </tr>\n",
       "  </thead>\n",
       "  <tbody>\n",
       "    <tr>\n",
       "      <th>F</th>\n",
       "      <td>577.159368</td>\n",
       "    </tr>\n",
       "    <tr>\n",
       "      <th>M</th>\n",
       "      <td>562.396035</td>\n",
       "    </tr>\n",
       "  </tbody>\n",
       "</table>\n",
       "</div>"
      ],
      "text/plain": [
       "      nota_redacao\n",
       "sexo              \n",
       "F       577.159368\n",
       "M       562.396035"
      ]
     },
     "execution_count": 15,
     "metadata": {},
     "output_type": "execute_result"
    }
   ],
   "source": [
    "# Nota média por sexo\n",
    "sexo_redacao.groupby('sexo').mean()"
   ]
  },
  {
   "cell_type": "code",
   "execution_count": 16,
   "metadata": {},
   "outputs": [
    {
     "data": {
      "image/png": "[encoded data removed]",
      "text/plain": [
       "<Figure size 432x432 with 1 Axes>"
      ]
     },
     "metadata": {
      "needs_background": "light"
     },
     "output_type": "display_data"
    }
   ],
   "source": [
    "plt.figure(figsize = [6, 6])\n",
    "sns.boxplot(data = sexo_redacao, x='sexo', y='nota_redacao', palette=\"Pastel1\")\n",
    "plt.title('Nota da Redação por sexo');"
   ]
  },
  {
   "cell_type": "code",
   "execution_count": 17,
   "metadata": {},
   "outputs": [],
   "source": [
    "df_m, df_f = sexo_redacao.loc[sexo_redacao['sexo']=='M'],   sexo_redacao.loc[sexo_redacao['sexo']=='F']"
   ]
  },
  {
   "cell_type": "code",
   "execution_count": 18,
   "metadata": {},
   "outputs": [
    {
     "data": {
      "image/png": "[encoded data removed]",
      "text/plain": [
       "<Figure size 576x432 with 1 Axes>"
      ]
     },
     "metadata": {
      "needs_background": "light"
     },
     "output_type": "display_data"
    }
   ],
   "source": [
    "plt.figure(figsize=(8,6))\n",
    "plt.hist(df_f['nota_redacao'], bins=50, alpha = 0.5, label='Feminino')\n",
    "plt.hist(df_m['nota_redacao'], bins=50, alpha = 0.5, label='Masculino')\n",
    "plt.legend(loc='upper left')\n",
    "plt.title('Distribuição das notas de redação por sexo');"
   ]
  },
  {
   "cell_type": "code",
   "execution_count": null,
   "metadata": {},
   "outputs": [],
   "source": []
  },
  {
   "cell_type": "code",
   "execution_count": null,
   "metadata": {},
   "outputs": [],
   "source": []
  },
  {
   "cell_type": "code",
   "execution_count": null,
   "metadata": {},
   "outputs": [],
   "source": []
  }
 ],
 "metadata": {
  "kernelspec": {
   "display_name": "Python 3",
   "language": "python",
   "name": "python3"
  },
  "language_info": {
   "codemirror_mode": {
    "name": "ipython",
    "version": 3
   },
   "file_extension": ".py",
   "mimetype": "text/x-python",
   "name": "python",
   "nbconvert_exporter": "python",
   "pygments_lexer": "ipython3",
   "version": "3.7.6"
  }
 },
 "nbformat": 4,
 "nbformat_minor": 4
}
