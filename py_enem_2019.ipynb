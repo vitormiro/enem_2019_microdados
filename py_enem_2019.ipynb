{
 "cells": [
  {
   "cell_type": "markdown",
   "metadata": {},
   "source": [
    "# Análise de Microdados do Enem\n",
    "\n",
    "O Exame Nacional do Ensino Médio (Enem) é uma prova de admissão à educação superior realizada pelo Instituto Nacional de Estudos e Pesquisas Educacionais Anísio Teixeira (INEP), autarquia vinculada ao Ministério da Educação do Brasil. \n",
    "\n",
    "\n",
    "O exame foi criado em 1998 com o objetivo de prover uma forma de avaliar anualmente o aprendizado dos alunos do ensino médio em todo o país, e para auxiliar o ministério na elaboração de políticas pontuais e estruturais de melhoria do ensino brasileiro. Foi a primeira iniciativa de avaliação geral do sistema de ensino implantado no Brasil.\n",
    "\n",
    "\n",
    "A partir de 2004, o Enem passou a ser usado no ingresso de candidatos em cursos superiores. Com a nota do exame, estudantes poderiam se inscrevessem para conseguir bolsa de estudo em faculdades particulares pelo ProUni.\n",
    "\n",
    "Em 2009, foi introduzido um novo modelo de prova para o Enem, com a proposta de unificar o concurso vestibular das universidades federais brasileiras.\n",
    "\n",
    "\n",
    "O Questionário Socioeconômico do Enem compreende um conjunto de perguntas sobre a situação do candidato, incluindo ano de formação do ensino médio, tipo de escola, renda, profissão, entre outras. Ele passou a ser aplicado em 2003 com objetivo de colher informações importantes que podem servir de base para a formulação de novas políticas públicas na área da educação.\n",
    "\n",
    "As informações coletadas são muito ricas e possuem potencial para diversos tipos de análise.\n",
    "As informações do Questionário Socioeconômico, bem como do desempenho dos candidatos ficam disponíveis nos **microdados** -  [Microdados do Enem no site do INEP](https://www.gov.br/inep/pt-br/acesso-a-informacao/dados-abertos/microdados/enem).\n",
    "\n",
    "**Observação.** O formato atual disponível dos microdados foi alterado em atendimento às normas previstas na Lei n.º 13.709, de 14 de agosto de 2018 (Lei Geral de Proteção de Dados Pessoais – LGPD). O arquivo utilizado nesta análise foi coletado antes da reestruturação dos microdados.\n"
   ]
  },
  {
   "cell_type": "code",
   "execution_count": 1,
   "metadata": {},
   "outputs": [],
   "source": [
    "# Importar bibliotecas\n",
    "import pandas as pd\n",
    "import numpy as np\n",
    "import matplotlib.pyplot as plt\n",
    "import seaborn as sns"
   ]
  },
  {
   "cell_type": "code",
   "execution_count": 2,
   "metadata": {},
   "outputs": [
    {
     "name": "stdout",
     "output_type": "stream",
     "text": [
      "LEIA-ME E DOCUMENTOS TÉCNICOS/\n",
      "LEIA-ME E DOCUMENTOS TÉCNICOS/matriz_referencia_enem.pdf\n",
      "LEIA-ME E DOCUMENTOS TÉCNICOS/Leia_Me_Enem_2019.pdf\n",
      "LEIA-ME E DOCUMENTOS TÉCNICOS/manual_de_redacao_do_enem_2019.pdf\n",
      "LEIA-ME E DOCUMENTOS TÉCNICOS/Edital_enem_2019.pdf\n",
      "PROVAS E GABARITOS/\n",
      "PROVAS E GABARITOS/ENEM_2019_P1_CAD_02_DIA_1_AMARELO.pdf\n",
      "PROVAS E GABARITOS/ENEM_2019_P1_CAD_02_DIA_1_AMARELO_AMPLIADA.pdf\n",
      "PROVAS E GABARITOS/ENEM_2019_P1_CAD_02_DIA_1_AMARELO_SUPERAMPLIADA.pdf\n",
      "PROVAS E GABARITOS/ENEM_2019_P1_CAD_03_DIA_1_BRANCO.pdf\n",
      "PROVAS E GABARITOS/ENEM_2019_P1_CAD_04_DIA_1_ROSA.pdf\n",
      "PROVAS E GABARITOS/ENEM_2019_P1_CAD_09_DIA_1_LARANJA_LEDOR.pdf\n",
      "PROVAS E GABARITOS/ENEM_2019_P1_CAD_10_DIA_1_VERDE_LIBRAS.pdf\n",
      "PROVAS E GABARITOS/ENEM_2019_P1_CAD_05_DIA_2_AMARELO.pdf\n",
      "PROVAS E GABARITOS/ENEM_2019_P1_GAB_02_DIA_1_AMARELO.pdf.pdf\n",
      "PROVAS E GABARITOS/ENEM_2019_P1_GAB_02_DIA_1_AMARELO_AMPLIADA.pdf\n",
      "PROVAS E GABARITOS/ENEM_2019_P1_GAB_02_DIA_1_AMARELO_SUPERAMPLIADA.pdf\n",
      "PROVAS E GABARITOS/ENEM_2019_P1_GAB_03_DIA_1_BRANCO.pdf\n",
      "PROVAS E GABARITOS/ENEM_2019_P1_GAB_04_DIA_1_ROSA.pdf\n",
      "PROVAS E GABARITOS/ENEM_2019_P1_GAB_09_DIA_1_LARANJA_LEDOR.pdf\n",
      "PROVAS E GABARITOS/ENEM_2019_P1_GAB_10_DIA_1_VERDE_LIBRAS.pdf\n",
      "PROVAS E GABARITOS/ENEM_2019_P1_GAB_05_DIA_2_AMARELO.pdf\n",
      "PROVAS E GABARITOS/ENEM_2019_P2_GAB_05_DIA_2_AMARELO_SUPERAMPLIADA.pdf\n",
      "PROVAS E GABARITOS/ENEM_2019_P1_CAD_06_DIA_2_CINZA_AMPLIADA.pdf\n",
      "PROVAS E GABARITOS/ENEM_2019_P1_CAD_06_DIA_2_CINZA_SUPERAMPLIADA.pdf\n",
      "PROVAS E GABARITOS/ENEM_2019_P1_CAD_07_DIA_2_AZUL.pdf\n",
      "PROVAS E GABARITOS/ENEM_2019_P1_CAD_08_DIA_2_ROSA.pdf\n",
      "PROVAS E GABARITOS/ENEM_2019_P1_CAD_06_DIA_2_CINZA.pdf\n",
      "PROVAS E GABARITOS/ENEM_2019_P1_CAD_11_DIA_2_LARANJA_LEDOR.pdf\n",
      "PROVAS E GABARITOS/ENEM_2019_P1_CAD_12_DIA_2_VERDE_LIBRAS.pdf\n",
      "PROVAS E GABARITOS/ENEM_2019_P1_GAB_01_DIA_1_AZUL.pdf\n",
      "PROVAS E GABARITOS/ENEM_2019_P1_GAB_06_DIA_2_CINZA.pdf\n",
      "PROVAS E GABARITOS/ENEM_2019_P1_GAB_06_DIA_2_CINZA_AMPLIADA.pdf\n",
      "PROVAS E GABARITOS/ENEM_2019_P1_GAB_06_DIA_2_CINZA_SUPERAMPLIADA.pdf\n",
      "PROVAS E GABARITOS/ENEM_2019_P1_GAB_07_DIA_2_AZUL.pdf\n",
      "PROVAS E GABARITOS/ENEM_2019_P1_GAB_08_DIA_2_ROSA.pdf\n",
      "PROVAS E GABARITOS/ENEM_2019_P1_GAB_11_DIA_2_LARANJA_LEDOR.pdf\n",
      "PROVAS E GABARITOS/ENEM_2019_P1_GAB_12_DIA_2_VERDE_LIBRAS.pdf\n",
      "PROVAS E GABARITOS/ENEM_2019_P2_CAD_01_DIA_1_AZUL.pdf\n",
      "PROVAS E GABARITOS/ENEM_2019_P2_GAB_01_DIA_1_AZUL_AMPLIADA.pdf\n",
      "PROVAS E GABARITOS/ENEM_2019_P2_CAD_01_DIA_1_AZUL_AMPLIADA.pdf\n",
      "PROVAS E GABARITOS/ENEM_2019_P2_CAD_01_DIA_1_AZUL_SUPERAMPLIADA.pdf\n",
      "PROVAS E GABARITOS/ENEM_2019_P2_CAD_02_DIA_1_AMARELO.pdf\n",
      "PROVAS E GABARITOS/ENEM_2019_P2_CAD_03_DIA_1_BRANCO.pdf\n",
      "PROVAS E GABARITOS/ENEM_2019_P2_CAD_04_DIA_1_ROSA.pdf\n",
      "PROVAS E GABARITOS/ENEM_2019_P2_CAD_09_DIA_1_LARANJA_LEDOR.pdf\n",
      "PROVAS E GABARITOS/ENEM_2019_P2_CAD_05_DIA_2_AMARELO.pdf\n",
      "PROVAS E GABARITOS/ENEM_2019_P2_GAB_06_DIA_2_CINZA.pdf\n",
      "PROVAS E GABARITOS/ENEM_2019_P2_GAB_02_DIA_1_AMARELO.pdf\n",
      "PROVAS E GABARITOS/ENEM_2019_P2_GAB_03_DIA_1_BRANCO.pdf\n",
      "PROVAS E GABARITOS/ENEM_2019_P2_GAB_04_DIA_1_ROSA.pdf\n",
      "PROVAS E GABARITOS/ENEM_2019_P2_GAB_09_DIA_1_LARANJA_LEDOR.pdf\n",
      "PROVAS E GABARITOS/ENEM_2019_P2_GAB_05_DIA_2_AMARELO.pdf\n",
      "PROVAS E GABARITOS/ENEM_2019_P2_CAD_05_DIA_2_AMARELO_AMPLIADA.pdf\n",
      "PROVAS E GABARITOS/ENEM_2019_P2_CAD_05_DIA_2_AMARELO_SUPERAMPLIADA.pdf\n",
      "PROVAS E GABARITOS/ENEM_2019_P2_CAD_06_DIA_2_CINZA.pdf\n",
      "PROVAS E GABARITOS/ENEM_2019_P2_CAD_07_DIA_2_AZUL.pdf\n",
      "PROVAS E GABARITOS/ENEM_2019_P2_CAD_08_DIA_2_ROSA.pdf\n",
      "PROVAS E GABARITOS/ENEM_2019_P2_CAD_11_DIA_2_LARANJA_LEDOR.pdf\n",
      "PROVAS E GABARITOS/ENEM_2019_P2_GAB_01_DIA_1_AZUL.pdf\n",
      "PROVAS E GABARITOS/ENEM_2019_P2_GAB_05_DIA_2_AMARELO_AMPLIADA.pdf\n",
      "PROVAS E GABARITOS/ENEM_2019_P1_CAD_01_DIA_1_AZUL.pdf\n",
      "PROVAS E GABARITOS/ENEM_2019_P2_GAB_01_DIA_1_AZUL_SUPERAMPLIADA.pdf\n",
      "PROVAS E GABARITOS/ENEM_2019_P2_GAB_07_DIA_2_AZUL.pdf\n",
      "PROVAS E GABARITOS/ENEM_2019_P2_GAB_08_DIA_2_ROSA.pdf\n",
      "PROVAS E GABARITOS/ENEM_2019_P2_GAB_11_DIA_2_LARANJA_LEDOR.pdf\n",
      "DADOS/\n",
      "DADOS/MICRODADOS_ENEM_2019.csv\n",
      "DADOS/ITENS_PROVA_2019.csv\n",
      "DICION╡RIO/\n",
      "DICION╡RIO/Dicionário_Microdados_Enem_2019.ods\n",
      "DICION╡RIO/Dicionário_Microdados_Enem_2019.xlsx\n",
      "INPUTS/\n",
      "INPUTS/INPUT_R_MICRODADOS_ENEM_2019.R\n",
      "INPUTS/INPUT_SAS_ITENS_PROVA_2019.sas\n",
      "INPUTS/INPUT_SAS_MICRODADOS_ENEM_2019.sas\n",
      "INPUTS/INPUT_SPSS_ITENS_PROVA_2019.sps\n",
      "INPUTS/INPUT_SPSS_MICRODADOS_ENEM_2019.sps\n",
      "INPUTS/INPUT_R_ITENS_PROVA_2019.R\n"
     ]
    }
   ],
   "source": [
    "# O arquivo está salvo em um diretório local, em formato compactado.\n",
    "import zipfile\n",
    "\n",
    "# ver nome dos arquivos na pasta compactada\n",
    "with zipfile.ZipFile('microdados_enem_2019.zip') as z:\n",
    "    print(*z.namelist(), sep=\"\\n\")"
   ]
  },
  {
   "cell_type": "markdown",
   "metadata": {},
   "source": [
    "Considerando o tamanho da base de dados, vamos inicialmente carregar apenas os nomes das variáveis e escolher quais delas estarão no dataframe analisado."
   ]
  },
  {
   "cell_type": "code",
   "execution_count": 3,
   "metadata": {},
   "outputs": [],
   "source": [
    "# Abrir arquivo de dados e verificar nome de colunas\n",
    "with zipfile.ZipFile('microdados_enem_2019.zip') as z:\n",
    "    with z.open('DADOS/MICRODADOS_ENEM_2019.csv') as dados:\n",
    "        dfcol = pd.read_csv(dados, sep=';', encoding='ISO-8859-1', nrows=0)"
   ]
  },
  {
   "cell_type": "code",
   "execution_count": 4,
   "metadata": {},
   "outputs": [
    {
     "data": {
      "text/plain": [
       "array(['NU_INSCRICAO', 'NU_ANO', 'CO_MUNICIPIO_RESIDENCIA',\n",
       "       'NO_MUNICIPIO_RESIDENCIA', 'CO_UF_RESIDENCIA', 'SG_UF_RESIDENCIA',\n",
       "       'NU_IDADE', 'TP_SEXO', 'TP_ESTADO_CIVIL', 'TP_COR_RACA',\n",
       "       'TP_NACIONALIDADE', 'CO_MUNICIPIO_NASCIMENTO',\n",
       "       'NO_MUNICIPIO_NASCIMENTO', 'CO_UF_NASCIMENTO', 'SG_UF_NASCIMENTO',\n",
       "       'TP_ST_CONCLUSAO', 'TP_ANO_CONCLUIU', 'TP_ESCOLA', 'TP_ENSINO',\n",
       "       'IN_TREINEIRO', 'CO_ESCOLA', 'CO_MUNICIPIO_ESC',\n",
       "       'NO_MUNICIPIO_ESC', 'CO_UF_ESC', 'SG_UF_ESC',\n",
       "       'TP_DEPENDENCIA_ADM_ESC', 'TP_LOCALIZACAO_ESC', 'TP_SIT_FUNC_ESC',\n",
       "       'IN_BAIXA_VISAO', 'IN_CEGUEIRA', 'IN_SURDEZ',\n",
       "       'IN_DEFICIENCIA_AUDITIVA', 'IN_SURDO_CEGUEIRA',\n",
       "       'IN_DEFICIENCIA_FISICA', 'IN_DEFICIENCIA_MENTAL',\n",
       "       'IN_DEFICIT_ATENCAO', 'IN_DISLEXIA', 'IN_DISCALCULIA',\n",
       "       'IN_AUTISMO', 'IN_VISAO_MONOCULAR', 'IN_OUTRA_DEF', 'IN_GESTANTE',\n",
       "       'IN_LACTANTE', 'IN_IDOSO', 'IN_ESTUDA_CLASSE_HOSPITALAR',\n",
       "       'IN_SEM_RECURSO', 'IN_BRAILLE', 'IN_AMPLIADA_24', 'IN_AMPLIADA_18',\n",
       "       'IN_LEDOR', 'IN_ACESSO', 'IN_TRANSCRICAO', 'IN_LIBRAS',\n",
       "       'IN_TEMPO_ADICIONAL', 'IN_LEITURA_LABIAL', 'IN_MESA_CADEIRA_RODAS',\n",
       "       'IN_MESA_CADEIRA_SEPARADA', 'IN_APOIO_PERNA', 'IN_GUIA_INTERPRETE',\n",
       "       'IN_COMPUTADOR', 'IN_CADEIRA_ESPECIAL', 'IN_CADEIRA_CANHOTO',\n",
       "       'IN_CADEIRA_ACOLCHOADA', 'IN_PROVA_DEITADO', 'IN_MOBILIARIO_OBESO',\n",
       "       'IN_LAMINA_OVERLAY', 'IN_PROTETOR_AURICULAR', 'IN_MEDIDOR_GLICOSE',\n",
       "       'IN_MAQUINA_BRAILE', 'IN_SOROBAN', 'IN_MARCA_PASSO', 'IN_SONDA',\n",
       "       'IN_MEDICAMENTOS', 'IN_SALA_INDIVIDUAL', 'IN_SALA_ESPECIAL',\n",
       "       'IN_SALA_ACOMPANHANTE', 'IN_MOBILIARIO_ESPECIFICO',\n",
       "       'IN_MATERIAL_ESPECIFICO', 'IN_NOME_SOCIAL', 'CO_MUNICIPIO_PROVA',\n",
       "       'NO_MUNICIPIO_PROVA', 'CO_UF_PROVA', 'SG_UF_PROVA',\n",
       "       'TP_PRESENCA_CN', 'TP_PRESENCA_CH', 'TP_PRESENCA_LC',\n",
       "       'TP_PRESENCA_MT', 'CO_PROVA_CN', 'CO_PROVA_CH', 'CO_PROVA_LC',\n",
       "       'CO_PROVA_MT', 'NU_NOTA_CN', 'NU_NOTA_CH', 'NU_NOTA_LC',\n",
       "       'NU_NOTA_MT', 'TX_RESPOSTAS_CN', 'TX_RESPOSTAS_CH',\n",
       "       'TX_RESPOSTAS_LC', 'TX_RESPOSTAS_MT', 'TP_LINGUA',\n",
       "       'TX_GABARITO_CN', 'TX_GABARITO_CH', 'TX_GABARITO_LC',\n",
       "       'TX_GABARITO_MT', 'TP_STATUS_REDACAO', 'NU_NOTA_COMP1',\n",
       "       'NU_NOTA_COMP2', 'NU_NOTA_COMP3', 'NU_NOTA_COMP4', 'NU_NOTA_COMP5',\n",
       "       'NU_NOTA_REDACAO', 'Q001', 'Q002', 'Q003', 'Q004', 'Q005', 'Q006',\n",
       "       'Q007', 'Q008', 'Q009', 'Q010', 'Q011', 'Q012', 'Q013', 'Q014',\n",
       "       'Q015', 'Q016', 'Q017', 'Q018', 'Q019', 'Q020', 'Q021', 'Q022',\n",
       "       'Q023', 'Q024', 'Q025'], dtype=object)"
      ]
     },
     "execution_count": 4,
     "metadata": {},
     "output_type": "execute_result"
    }
   ],
   "source": [
    "# Imprimir nomes das variáveis\n",
    "dfcol.columns.values"
   ]
  },
  {
   "cell_type": "code",
   "execution_count": 5,
   "metadata": {},
   "outputs": [],
   "source": [
    "# Selecionar informações/variáveis considerando objetivos da análise \n",
    "colunas_selecionadas = ['NU_INSCRICAO', 'NU_ANO', 'CO_MUNICIPIO_RESIDENCIA',\n",
    "                        'NO_MUNICIPIO_RESIDENCIA', 'SG_UF_RESIDENCIA',\n",
    "                        'NU_IDADE', 'TP_SEXO', 'TP_COR_RACA',\n",
    "                        'TP_ST_CONCLUSAO', 'TP_ANO_CONCLUIU', 'TP_ESCOLA', 'TP_ENSINO',\n",
    "                        'CO_ESCOLA', 'CO_MUNICIPIO_ESC', 'NO_MUNICIPIO_ESC', 'CO_UF_ESC', 'SG_UF_ESC',\n",
    "                        'TP_DEPENDENCIA_ADM_ESC', 'TP_LOCALIZACAO_ESC', 'TP_SIT_FUNC_ESC', 'TP_PRESENCA_CN', \n",
    "                        'TP_PRESENCA_CH', 'TP_PRESENCA_LC', 'TP_PRESENCA_MT', 'TP_STATUS_REDACAO',\n",
    "                        'CO_PROVA_CN', 'CO_PROVA_CH', 'CO_PROVA_LC', 'CO_PROVA_MT', \n",
    "                        'NU_NOTA_CN', 'NU_NOTA_CH', 'NU_NOTA_LC', 'NU_NOTA_MT', 'NU_NOTA_REDACAO',\n",
    "                        'Q001', 'Q002', 'Q003', 'Q004', 'Q005', 'Q006', 'Q024', 'Q025']"
   ]
  },
  {
   "cell_type": "markdown",
   "metadata": {},
   "source": [
    "### Dicionário de informações/variáveis selecionadas\n",
    "\n",
    "**Dados do participante**\n",
    "\n",
    "- NU_INSCRICAO:\tNúmero de inscrição1 \n",
    "- NU_ANO: Ano do Enem\n",
    "- CO_MUNICIPIO_RESIDENCIA:\tCódigo do município de residência \n",
    "\t- 1º dígito: Região\n",
    "\t- 1º e 2º dígitos: UF\n",
    "\t- 3º, 4º, 5º e 6º dígitos: Município\n",
    "\t- 7º dígito: dígito verificador\n",
    "- NO_MUNICIPIO_RESIDENCIA:\tNome do município de residência\n",
    "- SG_UF_RESIDENCIA:\tSigla da Unidade da Federação de residência\n",
    "- NU_IDADE:\tIdade\n",
    "- TP_SEXO:\tSexo\n",
    "- TP_COR_RACA:\tCor/raça\n",
    "\n",
    "- TP_ST_CONCLUSAO: Situação de conclusão do Ensino Médio\n",
    "- TP_ANO_CONCLUIU: Ano de Conclusão do Ensino Médio\n",
    "- TP_ESCOLA: Tipo de escola do Ensino Médio\n",
    "- TP_ENSINO: Tipo de instituição que concluiu ou concluirá o Ensino Médio \n",
    "\n",
    "**Dados da escola**\n",
    "- CO_ESCOLA\tCódigo da Escola\n",
    "- CO_MUNICIPIO_ESC\n",
    "\t- Código do município da escola \n",
    "\t- 1º dígito: Região\n",
    "\t- 1º e 2º dígitos: UF\n",
    "\t- 3º, 4º, 5º e 6º dígitos: Município\n",
    "\t- 7º dígito: dígito verificador\n",
    "- NO_MUNICIPIO_ESC\tNome do município da escola\n",
    "- CO_UF_ESC\tCódigo da Unidade da Federação da escola\n",
    "- SG_UF_ESC\tSigla da Unidade da Federação da escola\n",
    "- TP_DEPENDENCIA_ADM_ESC\tDependência administrativa (Escola)\n",
    "    - 1\tFederal\n",
    "    - 2\tEstadual\n",
    "    - 3\tMunicipal\n",
    "    - 4\tPrivada\n",
    "- TP_LOCALIZACAO_ESC\tLocalização (Escola)\n",
    "    - 1 = urbana\n",
    "    - 2 = rural\n",
    "- TP_SIT_FUNC_ESC\tSituação de funcionamento (Escola)\n",
    "\n",
    "\n",
    "**Dados da prova objetiva e da redação**\n",
    "\n",
    "- NU_NOTA_CN:\tNota da prova de Ciências da Natureza\n",
    "- NU_NOTA_CH:\tNota da prova de Ciências Humanas\n",
    "- NU_NOTA_LC:\tNota da prova de Linguagens e Códigos\n",
    "- NU_NOTA_MT:\tNota da prova de Matemática\n",
    "\n",
    "- NU_NOTA_REDACAO:\tNota da prova de redação\n",
    "\n",
    "**Dados do Questionário Socioeconômico**\n",
    "\n",
    "- Q001:\tAté que série seu pai, ou o homem responsável por você, estudou?\n",
    "- Q002: Até que série sua mãe, ou a mulher responsável por você, estudou?\n",
    "- Q003:\t... ocupações divididas em grupos ordenados, indique o grupo que contempla a ocupação mais próxima da ocupação do seu pai ou do homem responsável por você.\n",
    "- Q004:\t... ocupações divididas em grupos ordenados, indique o grupo que contempla a ocupação mais próxima da ocupação da sua mãe ou da mulher responsável por você.\n",
    "- Q005:\tIncluindo você, quantas pessoas moram atualmente em sua residência?\n",
    "- Q006:\tQual é a renda mensal de sua família? (Some a sua renda com a dos seus familiares.)\n",
    "- Q024:\tNa sua residência tem computador?\n",
    "- Q025:\tNa sua residência tem acesso à Internet?"
   ]
  },
  {
   "cell_type": "markdown",
   "metadata": {},
   "source": [
    "Criar um dataframe com os vriáveis selecionadas"
   ]
  },
  {
   "cell_type": "code",
   "execution_count": 6,
   "metadata": {},
   "outputs": [],
   "source": [
    "# Carregar apenas as colunas selecinadas e salvar em um Data Frame nomeado como 'df'\n",
    "with zipfile.ZipFile('microdados_enem_2019.zip') as z:\n",
    "    with z.open('DADOS/MICRODADOS_ENEM_2019.csv') as dados:\n",
    "        df = pd.read_csv(dados, sep=';', encoding='ISO-8859-1', usecols= colunas_selecionadas)"
   ]
  },
  {
   "cell_type": "code",
   "execution_count": 7,
   "metadata": {},
   "outputs": [
    {
     "data": {
      "text/html": [
       "<div>\n",
       "<style scoped>\n",
       "    .dataframe tbody tr th:only-of-type {\n",
       "        vertical-align: middle;\n",
       "    }\n",
       "\n",
       "    .dataframe tbody tr th {\n",
       "        vertical-align: top;\n",
       "    }\n",
       "\n",
       "    .dataframe thead th {\n",
       "        text-align: right;\n",
       "    }\n",
       "</style>\n",
       "<table border=\"1\" class=\"dataframe\">\n",
       "  <thead>\n",
       "    <tr style=\"text-align: right;\">\n",
       "      <th></th>\n",
       "      <th>NU_INSCRICAO</th>\n",
       "      <th>NU_ANO</th>\n",
       "      <th>CO_MUNICIPIO_RESIDENCIA</th>\n",
       "      <th>NO_MUNICIPIO_RESIDENCIA</th>\n",
       "      <th>SG_UF_RESIDENCIA</th>\n",
       "      <th>NU_IDADE</th>\n",
       "      <th>TP_SEXO</th>\n",
       "      <th>TP_COR_RACA</th>\n",
       "      <th>TP_ST_CONCLUSAO</th>\n",
       "      <th>TP_ANO_CONCLUIU</th>\n",
       "      <th>...</th>\n",
       "      <th>TP_STATUS_REDACAO</th>\n",
       "      <th>NU_NOTA_REDACAO</th>\n",
       "      <th>Q001</th>\n",
       "      <th>Q002</th>\n",
       "      <th>Q003</th>\n",
       "      <th>Q004</th>\n",
       "      <th>Q005</th>\n",
       "      <th>Q006</th>\n",
       "      <th>Q024</th>\n",
       "      <th>Q025</th>\n",
       "    </tr>\n",
       "  </thead>\n",
       "  <tbody>\n",
       "    <tr>\n",
       "      <th>0</th>\n",
       "      <td>190001004627</td>\n",
       "      <td>2019</td>\n",
       "      <td>1506807</td>\n",
       "      <td>Santarém</td>\n",
       "      <td>PA</td>\n",
       "      <td>21</td>\n",
       "      <td>M</td>\n",
       "      <td>3</td>\n",
       "      <td>1</td>\n",
       "      <td>3</td>\n",
       "      <td>...</td>\n",
       "      <td>1.0</td>\n",
       "      <td>780.0</td>\n",
       "      <td>D</td>\n",
       "      <td>E</td>\n",
       "      <td>A</td>\n",
       "      <td>A</td>\n",
       "      <td>7</td>\n",
       "      <td>B</td>\n",
       "      <td>B</td>\n",
       "      <td>A</td>\n",
       "    </tr>\n",
       "    <tr>\n",
       "      <th>1</th>\n",
       "      <td>190001004628</td>\n",
       "      <td>2019</td>\n",
       "      <td>1504059</td>\n",
       "      <td>Mãe do Rio</td>\n",
       "      <td>PA</td>\n",
       "      <td>16</td>\n",
       "      <td>F</td>\n",
       "      <td>3</td>\n",
       "      <td>3</td>\n",
       "      <td>0</td>\n",
       "      <td>...</td>\n",
       "      <td>1.0</td>\n",
       "      <td>600.0</td>\n",
       "      <td>D</td>\n",
       "      <td>E</td>\n",
       "      <td>A</td>\n",
       "      <td>A</td>\n",
       "      <td>5</td>\n",
       "      <td>B</td>\n",
       "      <td>A</td>\n",
       "      <td>A</td>\n",
       "    </tr>\n",
       "    <tr>\n",
       "      <th>2</th>\n",
       "      <td>190001004629</td>\n",
       "      <td>2019</td>\n",
       "      <td>1505502</td>\n",
       "      <td>Paragominas</td>\n",
       "      <td>PA</td>\n",
       "      <td>18</td>\n",
       "      <td>F</td>\n",
       "      <td>1</td>\n",
       "      <td>2</td>\n",
       "      <td>0</td>\n",
       "      <td>...</td>\n",
       "      <td>1.0</td>\n",
       "      <td>640.0</td>\n",
       "      <td>H</td>\n",
       "      <td>E</td>\n",
       "      <td>A</td>\n",
       "      <td>D</td>\n",
       "      <td>3</td>\n",
       "      <td>C</td>\n",
       "      <td>C</td>\n",
       "      <td>B</td>\n",
       "    </tr>\n",
       "    <tr>\n",
       "      <th>3</th>\n",
       "      <td>190001004630</td>\n",
       "      <td>2019</td>\n",
       "      <td>1507706</td>\n",
       "      <td>São Sebastião da Boa Vista</td>\n",
       "      <td>PA</td>\n",
       "      <td>23</td>\n",
       "      <td>M</td>\n",
       "      <td>3</td>\n",
       "      <td>2</td>\n",
       "      <td>0</td>\n",
       "      <td>...</td>\n",
       "      <td>NaN</td>\n",
       "      <td>NaN</td>\n",
       "      <td>D</td>\n",
       "      <td>D</td>\n",
       "      <td>A</td>\n",
       "      <td>B</td>\n",
       "      <td>3</td>\n",
       "      <td>C</td>\n",
       "      <td>A</td>\n",
       "      <td>A</td>\n",
       "    </tr>\n",
       "    <tr>\n",
       "      <th>4</th>\n",
       "      <td>190001004631</td>\n",
       "      <td>2019</td>\n",
       "      <td>1503903</td>\n",
       "      <td>Juruti</td>\n",
       "      <td>PA</td>\n",
       "      <td>23</td>\n",
       "      <td>M</td>\n",
       "      <td>3</td>\n",
       "      <td>1</td>\n",
       "      <td>5</td>\n",
       "      <td>...</td>\n",
       "      <td>NaN</td>\n",
       "      <td>NaN</td>\n",
       "      <td>B</td>\n",
       "      <td>C</td>\n",
       "      <td>A</td>\n",
       "      <td>A</td>\n",
       "      <td>5</td>\n",
       "      <td>C</td>\n",
       "      <td>A</td>\n",
       "      <td>A</td>\n",
       "    </tr>\n",
       "  </tbody>\n",
       "</table>\n",
       "<p>5 rows × 42 columns</p>\n",
       "</div>"
      ],
      "text/plain": [
       "   NU_INSCRICAO  NU_ANO  CO_MUNICIPIO_RESIDENCIA     NO_MUNICIPIO_RESIDENCIA  \\\n",
       "0  190001004627    2019                  1506807                    Santarém   \n",
       "1  190001004628    2019                  1504059                  Mãe do Rio   \n",
       "2  190001004629    2019                  1505502                 Paragominas   \n",
       "3  190001004630    2019                  1507706  São Sebastião da Boa Vista   \n",
       "4  190001004631    2019                  1503903                      Juruti   \n",
       "\n",
       "  SG_UF_RESIDENCIA  NU_IDADE TP_SEXO  TP_COR_RACA  TP_ST_CONCLUSAO  \\\n",
       "0               PA        21       M            3                1   \n",
       "1               PA        16       F            3                3   \n",
       "2               PA        18       F            1                2   \n",
       "3               PA        23       M            3                2   \n",
       "4               PA        23       M            3                1   \n",
       "\n",
       "   TP_ANO_CONCLUIU  ...  TP_STATUS_REDACAO  NU_NOTA_REDACAO  Q001  Q002 Q003  \\\n",
       "0                3  ...                1.0            780.0     D     E    A   \n",
       "1                0  ...                1.0            600.0     D     E    A   \n",
       "2                0  ...                1.0            640.0     H     E    A   \n",
       "3                0  ...                NaN              NaN     D     D    A   \n",
       "4                5  ...                NaN              NaN     B     C    A   \n",
       "\n",
       "   Q004 Q005  Q006  Q024  Q025  \n",
       "0     A    7     B     B     A  \n",
       "1     A    5     B     A     A  \n",
       "2     D    3     C     C     B  \n",
       "3     B    3     C     A     A  \n",
       "4     A    5     C     A     A  \n",
       "\n",
       "[5 rows x 42 columns]"
      ]
     },
     "execution_count": 7,
     "metadata": {},
     "output_type": "execute_result"
    }
   ],
   "source": [
    "# Visualizar dados (5 primeiras linhas)\n",
    "df.head()"
   ]
  },
  {
   "cell_type": "code",
   "execution_count": 8,
   "metadata": {},
   "outputs": [
    {
     "data": {
      "text/plain": [
       "(5095270, 42)"
      ]
     },
     "execution_count": 8,
     "metadata": {},
     "output_type": "execute_result"
    }
   ],
   "source": [
    "# Dimensão do dataframe\n",
    "df.shape"
   ]
  },
  {
   "cell_type": "code",
   "execution_count": 9,
   "metadata": {},
   "outputs": [
    {
     "name": "stdout",
     "output_type": "stream",
     "text": [
      "<class 'pandas.core.frame.DataFrame'>\n",
      "RangeIndex: 5095270 entries, 0 to 5095269\n",
      "Data columns (total 42 columns):\n",
      " #   Column                   Dtype  \n",
      "---  ------                   -----  \n",
      " 0   NU_INSCRICAO             int64  \n",
      " 1   NU_ANO                   int64  \n",
      " 2   CO_MUNICIPIO_RESIDENCIA  int64  \n",
      " 3   NO_MUNICIPIO_RESIDENCIA  object \n",
      " 4   SG_UF_RESIDENCIA         object \n",
      " 5   NU_IDADE                 int64  \n",
      " 6   TP_SEXO                  object \n",
      " 7   TP_COR_RACA              int64  \n",
      " 8   TP_ST_CONCLUSAO          int64  \n",
      " 9   TP_ANO_CONCLUIU          int64  \n",
      " 10  TP_ESCOLA                int64  \n",
      " 11  TP_ENSINO                float64\n",
      " 12  CO_ESCOLA                float64\n",
      " 13  CO_MUNICIPIO_ESC         float64\n",
      " 14  NO_MUNICIPIO_ESC         object \n",
      " 15  CO_UF_ESC                float64\n",
      " 16  SG_UF_ESC                object \n",
      " 17  TP_DEPENDENCIA_ADM_ESC   float64\n",
      " 18  TP_LOCALIZACAO_ESC       float64\n",
      " 19  TP_SIT_FUNC_ESC          float64\n",
      " 20  TP_PRESENCA_CN           int64  \n",
      " 21  TP_PRESENCA_CH           int64  \n",
      " 22  TP_PRESENCA_LC           int64  \n",
      " 23  TP_PRESENCA_MT           int64  \n",
      " 24  CO_PROVA_CN              float64\n",
      " 25  CO_PROVA_CH              float64\n",
      " 26  CO_PROVA_LC              float64\n",
      " 27  CO_PROVA_MT              float64\n",
      " 28  NU_NOTA_CN               float64\n",
      " 29  NU_NOTA_CH               float64\n",
      " 30  NU_NOTA_LC               float64\n",
      " 31  NU_NOTA_MT               float64\n",
      " 32  TP_STATUS_REDACAO        float64\n",
      " 33  NU_NOTA_REDACAO          float64\n",
      " 34  Q001                     object \n",
      " 35  Q002                     object \n",
      " 36  Q003                     object \n",
      " 37  Q004                     object \n",
      " 38  Q005                     int64  \n",
      " 39  Q006                     object \n",
      " 40  Q024                     object \n",
      " 41  Q025                     object \n",
      "dtypes: float64(17), int64(13), object(12)\n",
      "memory usage: 1.6+ GB\n"
     ]
    }
   ],
   "source": [
    "# Informações básicas do dataframe\n",
    "df.info()"
   ]
  },
  {
   "cell_type": "markdown",
   "metadata": {},
   "source": [
    "Renomear variáveis para facilitar a análise."
   ]
  },
  {
   "cell_type": "code",
   "execution_count": 10,
   "metadata": {},
   "outputs": [],
   "source": [
    "# renomear variáveis\n",
    "df.rename(columns={'NU_INSCRICAO': 'inscricao',\n",
    "                   'SG_UF_RESIDENCIA':'uf_resid',\n",
    "                   'NU_IDADE':'idade',\n",
    "                   'TP_SEXO':'sexo',\n",
    "                   'TP_COR_RACA':'cor',\n",
    "                   'TP_ANO_CONCLUIU':'ano_conclusao',\n",
    "                   'TP_DEPENDENCIA_ADM_ESC':'dep_escola',\n",
    "                   'NU_NOTA_CN':'nota_cnatureza',\n",
    "                   'NU_NOTA_CH':'nota_chumanas',\n",
    "                   'NU_NOTA_LC':'nota_linguagens',\n",
    "                   'NU_NOTA_MT':'nota_matematica',\n",
    "                   'NU_NOTA_REDACAO':'nota_redacao',\n",
    "                   'Q001':'escol_pai',\n",
    "                   'Q002':'escol_mae',\n",
    "                   'Q003':'ocup_pai',\n",
    "                   'Q004':'ocup_mae',\n",
    "                   'Q005':'npessoas_resid',\n",
    "                   'Q006':'renda_familiar',\n",
    "                   'Q024':'computador',\n",
    "                   'Q025':'internet'}, inplace=True)"
   ]
  },
  {
   "cell_type": "markdown",
   "metadata": {},
   "source": [
    "Verificar dados faltantes."
   ]
  },
  {
   "cell_type": "code",
   "execution_count": 11,
   "metadata": {},
   "outputs": [
    {
     "data": {
      "text/plain": [
       "inscricao                        0\n",
       "NU_ANO                           0\n",
       "CO_MUNICIPIO_RESIDENCIA          0\n",
       "NO_MUNICIPIO_RESIDENCIA          0\n",
       "uf_resid                         0\n",
       "idade                            0\n",
       "sexo                             0\n",
       "cor                              0\n",
       "TP_ST_CONCLUSAO                  0\n",
       "ano_conclusao                    0\n",
       "TP_ESCOLA                        0\n",
       "TP_ENSINO                  2217073\n",
       "CO_ESCOLA                  3947858\n",
       "CO_MUNICIPIO_ESC           3947858\n",
       "NO_MUNICIPIO_ESC           3947858\n",
       "CO_UF_ESC                  3947858\n",
       "SG_UF_ESC                  3947858\n",
       "dep_escola                 3947858\n",
       "TP_LOCALIZACAO_ESC         3947858\n",
       "TP_SIT_FUNC_ESC            3947858\n",
       "TP_PRESENCA_CN                   0\n",
       "TP_PRESENCA_CH                   0\n",
       "TP_PRESENCA_LC                   0\n",
       "TP_PRESENCA_MT                   0\n",
       "CO_PROVA_CN                1384837\n",
       "CO_PROVA_CH                1172125\n",
       "CO_PROVA_LC                1172125\n",
       "CO_PROVA_MT                1384837\n",
       "nota_cnatureza             1384837\n",
       "nota_chumanas              1172125\n",
       "nota_linguagens            1172125\n",
       "nota_matematica            1384837\n",
       "TP_STATUS_REDACAO          1172126\n",
       "nota_redacao               1172126\n",
       "escol_pai                        0\n",
       "escol_mae                        0\n",
       "ocup_pai                         0\n",
       "ocup_mae                         0\n",
       "npessoas_resid                   0\n",
       "renda_familiar                   0\n",
       "computador                       0\n",
       "internet                         0\n",
       "dtype: int64"
      ]
     },
     "execution_count": 11,
     "metadata": {},
     "output_type": "execute_result"
    }
   ],
   "source": [
    "df.isnull().sum()"
   ]
  },
  {
   "cell_type": "code",
   "execution_count": 12,
   "metadata": {},
   "outputs": [],
   "source": [
    "## Excluir observações com valores faltantes\n",
    "df.dropna(axis=0, inplace = True)"
   ]
  },
  {
   "cell_type": "markdown",
   "metadata": {},
   "source": [
    "## Análise do desempenho por tipo de escola"
   ]
  },
  {
   "cell_type": "markdown",
   "metadata": {},
   "source": [
    "### Tipo da escola"
   ]
  },
  {
   "cell_type": "code",
   "execution_count": 13,
   "metadata": {},
   "outputs": [],
   "source": [
    "df['dep_escola'] = df['dep_escola'].map({1:'Federal', 2:'Estadual', 3:'Municipal', 4:'Privada'})"
   ]
  },
  {
   "cell_type": "code",
   "execution_count": 14,
   "metadata": {},
   "outputs": [
    {
     "data": {
      "text/plain": [
       "array(['Privada', 'Estadual', 'Federal', 'Municipal'], dtype=object)"
      ]
     },
     "execution_count": 14,
     "metadata": {},
     "output_type": "execute_result"
    }
   ],
   "source": [
    "df['dep_escola'].unique()"
   ]
  },
  {
   "cell_type": "markdown",
   "metadata": {},
   "source": [
    "Existem valores faltantes (nan)."
   ]
  },
  {
   "cell_type": "code",
   "execution_count": 15,
   "metadata": {},
   "outputs": [
    {
     "data": {
      "text/plain": [
       "Estadual     702523\n",
       "Privada      153675\n",
       "Federal       45779\n",
       "Municipal      7217\n",
       "Name: dep_escola, dtype: int64"
      ]
     },
     "execution_count": 15,
     "metadata": {},
     "output_type": "execute_result"
    }
   ],
   "source": [
    "df['dep_escola'].value_counts(dropna=False)"
   ]
  },
  {
   "cell_type": "code",
   "execution_count": 16,
   "metadata": {},
   "outputs": [
    {
     "data": {
      "image/png": "[encoded data removed]",
      "text/plain": [
       "<Figure size 576x432 with 1 Axes>"
      ]
     },
     "metadata": {
      "needs_background": "light"
     },
     "output_type": "display_data"
    }
   ],
   "source": [
    "plt.figure(figsize = [8, 6])\n",
    "sns.boxplot(data = df, x='dep_escola', y='nota_redacao', palette=\"Pastel1\")\n",
    "plt.title('Nota da Redação por tipo de escola');"
   ]
  },
  {
   "cell_type": "code",
   "execution_count": 17,
   "metadata": {},
   "outputs": [
    {
     "data": {
      "image/png": "[encoded data removed]",
      "text/plain": [
       "<Figure size 1080x720 with 4 Axes>"
      ]
     },
     "metadata": {
      "needs_background": "light"
     },
     "output_type": "display_data"
    }
   ],
   "source": [
    "fig, axes = plt.subplots(2, 2, figsize = [15, 10])\n",
    "\n",
    "#create boxplot in each subplot\n",
    "sns.boxplot(data=df, x='dep_escola', y='nota_matematica', palette=\"Pastel1\", ax=axes[0,0])\n",
    "sns.boxplot(data=df, x='dep_escola', y='nota_cnatureza', palette=\"Pastel1\", ax=axes[0,1])\n",
    "sns.boxplot(data=df, x='dep_escola', y='nota_chumanas', palette=\"Pastel1\", ax=axes[1,0])\n",
    "sns.boxplot(data=df, x='dep_escola', y='nota_linguagens', palette=\"Pastel1\", ax=axes[1,1])\n",
    "\n",
    "plt.show()"
   ]
  },
  {
   "cell_type": "markdown",
   "metadata": {},
   "source": [
    "- Agrupar em escolas públicas e privadas.\n",
    "- Escolas federais possuem um perfil diferente das públicas estaduais e municipais."
   ]
  },
  {
   "cell_type": "code",
   "execution_count": 18,
   "metadata": {},
   "outputs": [],
   "source": [
    "df['tipo_escola'] = np.where((df['dep_escola'] == 'Privada') & (pd.isnull(df['dep_escola']) == False), 'Privada', 'Publica')"
   ]
  },
  {
   "cell_type": "code",
   "execution_count": 19,
   "metadata": {},
   "outputs": [
    {
     "data": {
      "text/html": [
       "<div>\n",
       "<style scoped>\n",
       "    .dataframe tbody tr th:only-of-type {\n",
       "        vertical-align: middle;\n",
       "    }\n",
       "\n",
       "    .dataframe tbody tr th {\n",
       "        vertical-align: top;\n",
       "    }\n",
       "\n",
       "    .dataframe thead th {\n",
       "        text-align: right;\n",
       "    }\n",
       "</style>\n",
       "<table border=\"1\" class=\"dataframe\">\n",
       "  <thead>\n",
       "    <tr style=\"text-align: right;\">\n",
       "      <th></th>\n",
       "      <th>dep_escola</th>\n",
       "      <th>tipo_escola</th>\n",
       "    </tr>\n",
       "  </thead>\n",
       "  <tbody>\n",
       "    <tr>\n",
       "      <th>2</th>\n",
       "      <td>Privada</td>\n",
       "      <td>Privada</td>\n",
       "    </tr>\n",
       "    <tr>\n",
       "      <th>7</th>\n",
       "      <td>Estadual</td>\n",
       "      <td>Publica</td>\n",
       "    </tr>\n",
       "    <tr>\n",
       "      <th>16</th>\n",
       "      <td>Estadual</td>\n",
       "      <td>Publica</td>\n",
       "    </tr>\n",
       "    <tr>\n",
       "      <th>24</th>\n",
       "      <td>Estadual</td>\n",
       "      <td>Publica</td>\n",
       "    </tr>\n",
       "    <tr>\n",
       "      <th>30</th>\n",
       "      <td>Estadual</td>\n",
       "      <td>Publica</td>\n",
       "    </tr>\n",
       "  </tbody>\n",
       "</table>\n",
       "</div>"
      ],
      "text/plain": [
       "   dep_escola tipo_escola\n",
       "2     Privada     Privada\n",
       "7    Estadual     Publica\n",
       "16   Estadual     Publica\n",
       "24   Estadual     Publica\n",
       "30   Estadual     Publica"
      ]
     },
     "execution_count": 19,
     "metadata": {},
     "output_type": "execute_result"
    }
   ],
   "source": [
    "df[['dep_escola', 'tipo_escola']].head()  ## preciso corrigir NaN"
   ]
  },
  {
   "cell_type": "code",
   "execution_count": 20,
   "metadata": {},
   "outputs": [
    {
     "data": {
      "image/png": "[encoded data removed]",
      "text/plain": [
       "<Figure size 576x432 with 1 Axes>"
      ]
     },
     "metadata": {
      "needs_background": "light"
     },
     "output_type": "display_data"
    }
   ],
   "source": [
    "plt.figure(figsize = [8, 6])\n",
    "sns.boxplot(data = df, x='tipo_escola', y='nota_redacao', palette=\"Pastel1\")\n",
    "plt.title('Nota da Redação por tipo de escola');"
   ]
  },
  {
   "cell_type": "markdown",
   "metadata": {},
   "source": [
    "## Condição socioeconômica"
   ]
  },
  {
   "cell_type": "code",
   "execution_count": 33,
   "metadata": {},
   "outputs": [
    {
     "data": {
      "text/html": [
       "<div>\n",
       "<style scoped>\n",
       "    .dataframe tbody tr th:only-of-type {\n",
       "        vertical-align: middle;\n",
       "    }\n",
       "\n",
       "    .dataframe tbody tr th {\n",
       "        vertical-align: top;\n",
       "    }\n",
       "\n",
       "    .dataframe thead th {\n",
       "        text-align: right;\n",
       "    }\n",
       "</style>\n",
       "<table border=\"1\" class=\"dataframe\">\n",
       "  <thead>\n",
       "    <tr style=\"text-align: right;\">\n",
       "      <th></th>\n",
       "      <th>inscricao</th>\n",
       "    </tr>\n",
       "    <tr>\n",
       "      <th>renda_familiar</th>\n",
       "      <th></th>\n",
       "    </tr>\n",
       "  </thead>\n",
       "  <tbody>\n",
       "    <tr>\n",
       "      <th>A</th>\n",
       "      <td>38201</td>\n",
       "    </tr>\n",
       "    <tr>\n",
       "      <th>B</th>\n",
       "      <td>230214</td>\n",
       "    </tr>\n",
       "    <tr>\n",
       "      <th>C</th>\n",
       "      <td>218705</td>\n",
       "    </tr>\n",
       "    <tr>\n",
       "      <th>D</th>\n",
       "      <td>76121</td>\n",
       "    </tr>\n",
       "    <tr>\n",
       "      <th>E</th>\n",
       "      <td>90835</td>\n",
       "    </tr>\n",
       "    <tr>\n",
       "      <th>F</th>\n",
       "      <td>39597</td>\n",
       "    </tr>\n",
       "    <tr>\n",
       "      <th>G</th>\n",
       "      <td>63145</td>\n",
       "    </tr>\n",
       "    <tr>\n",
       "      <th>H</th>\n",
       "      <td>35208</td>\n",
       "    </tr>\n",
       "    <tr>\n",
       "      <th>I</th>\n",
       "      <td>30371</td>\n",
       "    </tr>\n",
       "    <tr>\n",
       "      <th>J</th>\n",
       "      <td>15161</td>\n",
       "    </tr>\n",
       "    <tr>\n",
       "      <th>K</th>\n",
       "      <td>11962</td>\n",
       "    </tr>\n",
       "    <tr>\n",
       "      <th>L</th>\n",
       "      <td>8514</td>\n",
       "    </tr>\n",
       "    <tr>\n",
       "      <th>M</th>\n",
       "      <td>8347</td>\n",
       "    </tr>\n",
       "    <tr>\n",
       "      <th>N</th>\n",
       "      <td>11915</td>\n",
       "    </tr>\n",
       "    <tr>\n",
       "      <th>O</th>\n",
       "      <td>9654</td>\n",
       "    </tr>\n",
       "    <tr>\n",
       "      <th>P</th>\n",
       "      <td>8743</td>\n",
       "    </tr>\n",
       "    <tr>\n",
       "      <th>Q</th>\n",
       "      <td>12501</td>\n",
       "    </tr>\n",
       "  </tbody>\n",
       "</table>\n",
       "</div>"
      ],
      "text/plain": [
       "                inscricao\n",
       "renda_familiar           \n",
       "A                   38201\n",
       "B                  230214\n",
       "C                  218705\n",
       "D                   76121\n",
       "E                   90835\n",
       "F                   39597\n",
       "G                   63145\n",
       "H                   35208\n",
       "I                   30371\n",
       "J                   15161\n",
       "K                   11962\n",
       "L                    8514\n",
       "M                    8347\n",
       "N                   11915\n",
       "O                    9654\n",
       "P                    8743\n",
       "Q                   12501"
      ]
     },
     "execution_count": 33,
     "metadata": {},
     "output_type": "execute_result"
    }
   ],
   "source": [
    "# Renda\n",
    "df.filter(items = ['inscricao', 'renda_familiar']).groupby('renda_familiar').count()"
   ]
  },
  {
   "cell_type": "code",
   "execution_count": 35,
   "metadata": {},
   "outputs": [],
   "source": [
    "dict_renda = {'A' : 'Nenhuma renda',\n",
    "              'B' : 'Até 998,00',\n",
    "              'C' : 'De 998,01 até 1.497,00',\n",
    "              'D' : 'De 1.497,01 até 1.996,00',\n",
    "              'E' : 'De 1.996,01 até 2.495,00',\n",
    "              'F' : 'De 2.495,01 até 2.994,00',\n",
    "              'G' : 'De 2.994,01 até 3.992,00',\n",
    "              'H' : 'De 3.992,01 até 4.990,00',\n",
    "              'I' : 'De 4.990,01 até 5.988,00',\n",
    "              'J' : 'De 5.988,01 até 6.986,00',\n",
    "              'K' : 'De 6.986,01 até 7.984,00',\n",
    "              'L' : 'De 7.984,01 até 8.982,00',\n",
    "              'M' : 'De 8.982,01 até 9.980,00',\n",
    "              'N' : 'De 9.980,01 até 11.976,00',\n",
    "              'O' : 'De 11.976,01 até 14.970,00',\n",
    "              'P' : 'De 14.970,01 até 19.960,00',\n",
    "              'Q' : 'Mais de 19.960,00'}\n"
   ]
  },
  {
   "cell_type": "markdown",
   "metadata": {},
   "source": [
    "Criar uma nova coluna com a classe de renda baseada no dicionário."
   ]
  },
  {
   "cell_type": "code",
   "execution_count": 45,
   "metadata": {},
   "outputs": [
    {
     "data": {
      "text/html": [
       "<div>\n",
       "<style scoped>\n",
       "    .dataframe tbody tr th:only-of-type {\n",
       "        vertical-align: middle;\n",
       "    }\n",
       "\n",
       "    .dataframe tbody tr th {\n",
       "        vertical-align: top;\n",
       "    }\n",
       "\n",
       "    .dataframe thead th {\n",
       "        text-align: right;\n",
       "    }\n",
       "</style>\n",
       "<table border=\"1\" class=\"dataframe\">\n",
       "  <thead>\n",
       "    <tr style=\"text-align: right;\">\n",
       "      <th></th>\n",
       "      <th>inscricao</th>\n",
       "    </tr>\n",
       "    <tr>\n",
       "      <th>classe_renda</th>\n",
       "      <th></th>\n",
       "    </tr>\n",
       "  </thead>\n",
       "  <tbody>\n",
       "    <tr>\n",
       "      <th>Até 998,00</th>\n",
       "      <td>230214</td>\n",
       "    </tr>\n",
       "    <tr>\n",
       "      <th>De 1.497,01 até 1.996,00</th>\n",
       "      <td>76121</td>\n",
       "    </tr>\n",
       "    <tr>\n",
       "      <th>De 1.996,01 até 2.495,00</th>\n",
       "      <td>90835</td>\n",
       "    </tr>\n",
       "    <tr>\n",
       "      <th>De 11.976,01 até 14.970,00</th>\n",
       "      <td>9654</td>\n",
       "    </tr>\n",
       "    <tr>\n",
       "      <th>De 14.970,01 até 19.960,00</th>\n",
       "      <td>8743</td>\n",
       "    </tr>\n",
       "    <tr>\n",
       "      <th>De 2.495,01 até 2.994,00</th>\n",
       "      <td>39597</td>\n",
       "    </tr>\n",
       "    <tr>\n",
       "      <th>De 2.994,01 até 3.992,00</th>\n",
       "      <td>63145</td>\n",
       "    </tr>\n",
       "    <tr>\n",
       "      <th>De 3.992,01 até 4.990,00</th>\n",
       "      <td>35208</td>\n",
       "    </tr>\n",
       "    <tr>\n",
       "      <th>De 4.990,01 até 5.988,00</th>\n",
       "      <td>30371</td>\n",
       "    </tr>\n",
       "    <tr>\n",
       "      <th>De 5.988,01 até 6.986,00</th>\n",
       "      <td>15161</td>\n",
       "    </tr>\n",
       "    <tr>\n",
       "      <th>De 6.986,01 até 7.984,00</th>\n",
       "      <td>11962</td>\n",
       "    </tr>\n",
       "    <tr>\n",
       "      <th>De 7.984,01 até 8.982,00</th>\n",
       "      <td>8514</td>\n",
       "    </tr>\n",
       "    <tr>\n",
       "      <th>De 8.982,01 até 9.980,00</th>\n",
       "      <td>8347</td>\n",
       "    </tr>\n",
       "    <tr>\n",
       "      <th>De 9.980,01 até 11.976,00</th>\n",
       "      <td>11915</td>\n",
       "    </tr>\n",
       "    <tr>\n",
       "      <th>De 998,01 até 1.497,00</th>\n",
       "      <td>218705</td>\n",
       "    </tr>\n",
       "    <tr>\n",
       "      <th>Mais de 19.960,00</th>\n",
       "      <td>12501</td>\n",
       "    </tr>\n",
       "    <tr>\n",
       "      <th>Nenhuma renda</th>\n",
       "      <td>38201</td>\n",
       "    </tr>\n",
       "  </tbody>\n",
       "</table>\n",
       "</div>"
      ],
      "text/plain": [
       "                            inscricao\n",
       "classe_renda                         \n",
       "Até 998,00                     230214\n",
       "De 1.497,01 até 1.996,00        76121\n",
       "De 1.996,01 até 2.495,00        90835\n",
       "De 11.976,01 até 14.970,00       9654\n",
       "De 14.970,01 até 19.960,00       8743\n",
       "De 2.495,01 até 2.994,00        39597\n",
       "De 2.994,01 até 3.992,00        63145\n",
       "De 3.992,01 até 4.990,00        35208\n",
       "De 4.990,01 até 5.988,00        30371\n",
       "De 5.988,01 até 6.986,00        15161\n",
       "De 6.986,01 até 7.984,00        11962\n",
       "De 7.984,01 até 8.982,00         8514\n",
       "De 8.982,01 até 9.980,00         8347\n",
       "De 9.980,01 até 11.976,00       11915\n",
       "De 998,01 até 1.497,00         218705\n",
       "Mais de 19.960,00               12501\n",
       "Nenhuma renda                   38201"
      ]
     },
     "execution_count": 45,
     "metadata": {},
     "output_type": "execute_result"
    }
   ],
   "source": [
    "df['classe_renda'] = [dict_renda[classe] for classe in df['renda_familiar'] ]\n",
    "\n",
    "df.filter(items = ['inscricao', 'classe_renda']).groupby('classe_renda').count().sort_values(by='classe_renda')"
   ]
  },
  {
   "cell_type": "code",
   "execution_count": 46,
   "metadata": {},
   "outputs": [
    {
     "data": {
      "text/html": [
       "<div>\n",
       "<style scoped>\n",
       "    .dataframe tbody tr th:only-of-type {\n",
       "        vertical-align: middle;\n",
       "    }\n",
       "\n",
       "    .dataframe tbody tr th {\n",
       "        vertical-align: top;\n",
       "    }\n",
       "\n",
       "    .dataframe thead th {\n",
       "        text-align: right;\n",
       "    }\n",
       "</style>\n",
       "<table border=\"1\" class=\"dataframe\">\n",
       "  <thead>\n",
       "    <tr style=\"text-align: right;\">\n",
       "      <th></th>\n",
       "      <th>nota_matematica</th>\n",
       "    </tr>\n",
       "    <tr>\n",
       "      <th>classe_renda</th>\n",
       "      <th></th>\n",
       "    </tr>\n",
       "  </thead>\n",
       "  <tbody>\n",
       "    <tr>\n",
       "      <th>Mais de 19.960,00</th>\n",
       "      <td>708.234525</td>\n",
       "    </tr>\n",
       "    <tr>\n",
       "      <th>De 14.970,01 até 19.960,00</th>\n",
       "      <td>686.559488</td>\n",
       "    </tr>\n",
       "    <tr>\n",
       "      <th>De 11.976,01 até 14.970,00</th>\n",
       "      <td>669.654123</td>\n",
       "    </tr>\n",
       "    <tr>\n",
       "      <th>De 9.980,01 até 11.976,00</th>\n",
       "      <td>654.960260</td>\n",
       "    </tr>\n",
       "    <tr>\n",
       "      <th>De 8.982,01 até 9.980,00</th>\n",
       "      <td>636.283731</td>\n",
       "    </tr>\n",
       "    <tr>\n",
       "      <th>De 7.984,01 até 8.982,00</th>\n",
       "      <td>634.709784</td>\n",
       "    </tr>\n",
       "    <tr>\n",
       "      <th>De 6.986,01 até 7.984,00</th>\n",
       "      <td>616.726643</td>\n",
       "    </tr>\n",
       "    <tr>\n",
       "      <th>De 5.988,01 até 6.986,00</th>\n",
       "      <td>612.800904</td>\n",
       "    </tr>\n",
       "    <tr>\n",
       "      <th>De 4.990,01 até 5.988,00</th>\n",
       "      <td>593.924550</td>\n",
       "    </tr>\n",
       "    <tr>\n",
       "      <th>De 3.992,01 até 4.990,00</th>\n",
       "      <td>587.720646</td>\n",
       "    </tr>\n",
       "    <tr>\n",
       "      <th>De 2.994,01 até 3.992,00</th>\n",
       "      <td>560.657471</td>\n",
       "    </tr>\n",
       "    <tr>\n",
       "      <th>De 2.495,01 até 2.994,00</th>\n",
       "      <td>557.252906</td>\n",
       "    </tr>\n",
       "    <tr>\n",
       "      <th>De 1.996,01 até 2.495,00</th>\n",
       "      <td>531.763164</td>\n",
       "    </tr>\n",
       "    <tr>\n",
       "      <th>De 1.497,01 até 1.996,00</th>\n",
       "      <td>529.007761</td>\n",
       "    </tr>\n",
       "    <tr>\n",
       "      <th>De 998,01 até 1.497,00</th>\n",
       "      <td>501.635084</td>\n",
       "    </tr>\n",
       "    <tr>\n",
       "      <th>Até 998,00</th>\n",
       "      <td>479.584814</td>\n",
       "    </tr>\n",
       "    <tr>\n",
       "      <th>Nenhuma renda</th>\n",
       "      <td>470.226578</td>\n",
       "    </tr>\n",
       "  </tbody>\n",
       "</table>\n",
       "</div>"
      ],
      "text/plain": [
       "                            nota_matematica\n",
       "classe_renda                               \n",
       "Mais de 19.960,00                708.234525\n",
       "De 14.970,01 até 19.960,00       686.559488\n",
       "De 11.976,01 até 14.970,00       669.654123\n",
       "De 9.980,01 até 11.976,00        654.960260\n",
       "De 8.982,01 até 9.980,00         636.283731\n",
       "De 7.984,01 até 8.982,00         634.709784\n",
       "De 6.986,01 até 7.984,00         616.726643\n",
       "De 5.988,01 até 6.986,00         612.800904\n",
       "De 4.990,01 até 5.988,00         593.924550\n",
       "De 3.992,01 até 4.990,00         587.720646\n",
       "De 2.994,01 até 3.992,00         560.657471\n",
       "De 2.495,01 até 2.994,00         557.252906\n",
       "De 1.996,01 até 2.495,00         531.763164\n",
       "De 1.497,01 até 1.996,00         529.007761\n",
       "De 998,01 até 1.497,00           501.635084\n",
       "Até 998,00                       479.584814\n",
       "Nenhuma renda                    470.226578"
      ]
     },
     "execution_count": 46,
     "metadata": {},
     "output_type": "execute_result"
    }
   ],
   "source": [
    "df.filter(items = ['nota_matematica', 'classe_renda']).groupby('classe_renda').mean()\\\n",
    "                                                      .sort_values(by='nota_matematica', ascending=False)"
   ]
  },
  {
   "cell_type": "code",
   "execution_count": null,
   "metadata": {},
   "outputs": [],
   "source": []
  },
  {
   "cell_type": "code",
   "execution_count": 52,
   "metadata": {},
   "outputs": [
    {
     "data": {
      "text/html": [
       "<div>\n",
       "<style scoped>\n",
       "    .dataframe tbody tr th:only-of-type {\n",
       "        vertical-align: middle;\n",
       "    }\n",
       "\n",
       "    .dataframe tbody tr th {\n",
       "        vertical-align: top;\n",
       "    }\n",
       "\n",
       "    .dataframe thead th {\n",
       "        text-align: right;\n",
       "    }\n",
       "</style>\n",
       "<table border=\"1\" class=\"dataframe\">\n",
       "  <thead>\n",
       "    <tr style=\"text-align: right;\">\n",
       "      <th></th>\n",
       "      <th>nota_matematica</th>\n",
       "    </tr>\n",
       "    <tr>\n",
       "      <th>classe_renda</th>\n",
       "      <th></th>\n",
       "    </tr>\n",
       "  </thead>\n",
       "  <tbody>\n",
       "    <tr>\n",
       "      <th>Mais de 19.960,00</th>\n",
       "      <td>720.935917</td>\n",
       "    </tr>\n",
       "    <tr>\n",
       "      <th>De 14.970,01 até 19.960,00</th>\n",
       "      <td>712.544981</td>\n",
       "    </tr>\n",
       "    <tr>\n",
       "      <th>De 11.976,01 até 14.970,00</th>\n",
       "      <td>700.736786</td>\n",
       "    </tr>\n",
       "    <tr>\n",
       "      <th>De 9.980,01 até 11.976,00</th>\n",
       "      <td>676.212500</td>\n",
       "    </tr>\n",
       "    <tr>\n",
       "      <th>De 7.984,01 até 8.982,00</th>\n",
       "      <td>669.209633</td>\n",
       "    </tr>\n",
       "    <tr>\n",
       "      <th>De 8.982,01 até 9.980,00</th>\n",
       "      <td>662.074286</td>\n",
       "    </tr>\n",
       "    <tr>\n",
       "      <th>De 5.988,01 até 6.986,00</th>\n",
       "      <td>645.608086</td>\n",
       "    </tr>\n",
       "    <tr>\n",
       "      <th>De 6.986,01 até 7.984,00</th>\n",
       "      <td>635.101805</td>\n",
       "    </tr>\n",
       "    <tr>\n",
       "      <th>De 3.992,01 até 4.990,00</th>\n",
       "      <td>630.041701</td>\n",
       "    </tr>\n",
       "    <tr>\n",
       "      <th>De 4.990,01 até 5.988,00</th>\n",
       "      <td>622.697191</td>\n",
       "    </tr>\n",
       "    <tr>\n",
       "      <th>De 2.495,01 até 2.994,00</th>\n",
       "      <td>607.865408</td>\n",
       "    </tr>\n",
       "    <tr>\n",
       "      <th>De 2.994,01 até 3.992,00</th>\n",
       "      <td>583.778042</td>\n",
       "    </tr>\n",
       "    <tr>\n",
       "      <th>De 1.996,01 até 2.495,00</th>\n",
       "      <td>542.635732</td>\n",
       "    </tr>\n",
       "    <tr>\n",
       "      <th>De 1.497,01 até 1.996,00</th>\n",
       "      <td>541.179027</td>\n",
       "    </tr>\n",
       "    <tr>\n",
       "      <th>De 998,01 até 1.497,00</th>\n",
       "      <td>501.205897</td>\n",
       "    </tr>\n",
       "    <tr>\n",
       "      <th>Até 998,00</th>\n",
       "      <td>479.848177</td>\n",
       "    </tr>\n",
       "    <tr>\n",
       "      <th>Nenhuma renda</th>\n",
       "      <td>467.872709</td>\n",
       "    </tr>\n",
       "  </tbody>\n",
       "</table>\n",
       "</div>"
      ],
      "text/plain": [
       "                            nota_matematica\n",
       "classe_renda                               \n",
       "Mais de 19.960,00                720.935917\n",
       "De 14.970,01 até 19.960,00       712.544981\n",
       "De 11.976,01 até 14.970,00       700.736786\n",
       "De 9.980,01 até 11.976,00        676.212500\n",
       "De 7.984,01 até 8.982,00         669.209633\n",
       "De 8.982,01 até 9.980,00         662.074286\n",
       "De 5.988,01 até 6.986,00         645.608086\n",
       "De 6.986,01 até 7.984,00         635.101805\n",
       "De 3.992,01 até 4.990,00         630.041701\n",
       "De 4.990,01 até 5.988,00         622.697191\n",
       "De 2.495,01 até 2.994,00         607.865408\n",
       "De 2.994,01 até 3.992,00         583.778042\n",
       "De 1.996,01 até 2.495,00         542.635732\n",
       "De 1.497,01 até 1.996,00         541.179027\n",
       "De 998,01 até 1.497,00           501.205897\n",
       "Até 998,00                       479.848177\n",
       "Nenhuma renda                    467.872709"
      ]
     },
     "execution_count": 52,
     "metadata": {},
     "output_type": "execute_result"
    }
   ],
   "source": [
    "df.filter(items = ['nota_matematica', 'classe_renda']).where(df['uf_resid'] == 'CE')\\\n",
    "                                                        .groupby('classe_renda').mean()\\\n",
    "                                                        .sort_values(by='nota_matematica', ascending=False)"
   ]
  },
  {
   "cell_type": "code",
   "execution_count": null,
   "metadata": {},
   "outputs": [],
   "source": []
  },
  {
   "cell_type": "markdown",
   "metadata": {},
   "source": [
    "### Escolaridade dos pais"
   ]
  },
  {
   "cell_type": "code",
   "execution_count": 39,
   "metadata": {},
   "outputs": [],
   "source": [
    "dict_escolpais = {'A': 'Nunca estudou',\n",
    "                  'B': 'Não completou a 4ª série/5º ano do Ensino Fundamental',\n",
    "                  'C': 'Completou a 4ª série/5º ano, mas não completou a 8ª série/9º ano do Ensino Fundamental',\n",
    "                  'D': 'Completou a 8ª série/9º ano do Ensino Fundamental, mas não completou o Ensino Médio',\n",
    "                  'E': 'Completou o Ensino Médio, mas não completou a Faculdade',\n",
    "                  'F': 'Completou a Faculdade, mas não completou a Pós-graduação',\n",
    "                  'G': 'Completou a Pós-graduação',\n",
    "                  'H': 'Não sei'}"
   ]
  },
  {
   "cell_type": "code",
   "execution_count": 41,
   "metadata": {},
   "outputs": [],
   "source": [
    "df['escol_pai'] = [dict_escolpais[resp] for resp in df['escol_pai'] ]\n",
    "df['escol_mae'] = [dict_escolpais[resp] for resp in df['escol_mae'] ]"
   ]
  },
  {
   "cell_type": "code",
   "execution_count": 42,
   "metadata": {},
   "outputs": [
    {
     "data": {
      "text/html": [
       "<div>\n",
       "<style scoped>\n",
       "    .dataframe tbody tr th:only-of-type {\n",
       "        vertical-align: middle;\n",
       "    }\n",
       "\n",
       "    .dataframe tbody tr th {\n",
       "        vertical-align: top;\n",
       "    }\n",
       "\n",
       "    .dataframe thead th {\n",
       "        text-align: right;\n",
       "    }\n",
       "</style>\n",
       "<table border=\"1\" class=\"dataframe\">\n",
       "  <thead>\n",
       "    <tr style=\"text-align: right;\">\n",
       "      <th></th>\n",
       "      <th>inscricao</th>\n",
       "    </tr>\n",
       "    <tr>\n",
       "      <th>escol_pai</th>\n",
       "      <th></th>\n",
       "    </tr>\n",
       "  </thead>\n",
       "  <tbody>\n",
       "    <tr>\n",
       "      <th>Completou o Ensino Médio, mas não completou a Faculdade</th>\n",
       "      <td>266838</td>\n",
       "    </tr>\n",
       "    <tr>\n",
       "      <th>Não completou a 4ª série/5º ano do Ensino Fundamental</th>\n",
       "      <td>148189</td>\n",
       "    </tr>\n",
       "    <tr>\n",
       "      <th>Completou a 4ª série/5º ano, mas não completou a 8ª série/9º ano do Ensino Fundamental</th>\n",
       "      <td>132501</td>\n",
       "    </tr>\n",
       "    <tr>\n",
       "      <th>Completou a 8ª série/9º ano do Ensino Fundamental, mas não completou o Ensino Médio</th>\n",
       "      <td>121213</td>\n",
       "    </tr>\n",
       "    <tr>\n",
       "      <th>Não sei</th>\n",
       "      <td>85801</td>\n",
       "    </tr>\n",
       "    <tr>\n",
       "      <th>Completou a Faculdade, mas não completou a Pós-graduação</th>\n",
       "      <td>76092</td>\n",
       "    </tr>\n",
       "    <tr>\n",
       "      <th>Completou a Pós-graduação</th>\n",
       "      <td>46389</td>\n",
       "    </tr>\n",
       "    <tr>\n",
       "      <th>Nunca estudou</th>\n",
       "      <td>32171</td>\n",
       "    </tr>\n",
       "  </tbody>\n",
       "</table>\n",
       "</div>"
      ],
      "text/plain": [
       "                                                    inscricao\n",
       "escol_pai                                                    \n",
       "Completou o Ensino Médio, mas não completou a F...     266838\n",
       "Não completou a 4ª série/5º ano do Ensino Funda...     148189\n",
       "Completou a 4ª série/5º ano, mas não completou ...     132501\n",
       "Completou a 8ª série/9º ano do Ensino Fundament...     121213\n",
       "Não sei                                                 85801\n",
       "Completou a Faculdade, mas não completou a Pós-...      76092\n",
       "Completou a Pós-graduação                               46389\n",
       "Nunca estudou                                           32171"
      ]
     },
     "execution_count": 42,
     "metadata": {},
     "output_type": "execute_result"
    }
   ],
   "source": [
    "df.filter(items = ['inscricao', 'escol_pai']).groupby('escol_pai').count().sort_values(by='inscricao', ascending=False)"
   ]
  },
  {
   "cell_type": "code",
   "execution_count": null,
   "metadata": {},
   "outputs": [],
   "source": []
  },
  {
   "cell_type": "code",
   "execution_count": null,
   "metadata": {},
   "outputs": [],
   "source": []
  },
  {
   "cell_type": "code",
   "execution_count": null,
   "metadata": {},
   "outputs": [],
   "source": []
  },
  {
   "cell_type": "markdown",
   "metadata": {},
   "source": [
    "### Análise do desempenho por sexo"
   ]
  },
  {
   "cell_type": "code",
   "execution_count": 23,
   "metadata": {},
   "outputs": [
    {
     "data": {
      "text/html": [
       "<div>\n",
       "<style scoped>\n",
       "    .dataframe tbody tr th:only-of-type {\n",
       "        vertical-align: middle;\n",
       "    }\n",
       "\n",
       "    .dataframe tbody tr th {\n",
       "        vertical-align: top;\n",
       "    }\n",
       "\n",
       "    .dataframe thead th {\n",
       "        text-align: right;\n",
       "    }\n",
       "</style>\n",
       "<table border=\"1\" class=\"dataframe\">\n",
       "  <thead>\n",
       "    <tr style=\"text-align: right;\">\n",
       "      <th></th>\n",
       "      <th>sexo</th>\n",
       "      <th>nota_redacao</th>\n",
       "    </tr>\n",
       "  </thead>\n",
       "  <tbody>\n",
       "    <tr>\n",
       "      <th>2</th>\n",
       "      <td>F</td>\n",
       "      <td>640.0</td>\n",
       "    </tr>\n",
       "    <tr>\n",
       "      <th>7</th>\n",
       "      <td>F</td>\n",
       "      <td>480.0</td>\n",
       "    </tr>\n",
       "    <tr>\n",
       "      <th>16</th>\n",
       "      <td>F</td>\n",
       "      <td>540.0</td>\n",
       "    </tr>\n",
       "    <tr>\n",
       "      <th>24</th>\n",
       "      <td>F</td>\n",
       "      <td>580.0</td>\n",
       "    </tr>\n",
       "    <tr>\n",
       "      <th>30</th>\n",
       "      <td>M</td>\n",
       "      <td>640.0</td>\n",
       "    </tr>\n",
       "  </tbody>\n",
       "</table>\n",
       "</div>"
      ],
      "text/plain": [
       "   sexo  nota_redacao\n",
       "2     F         640.0\n",
       "7     F         480.0\n",
       "16    F         540.0\n",
       "24    F         580.0\n",
       "30    M         640.0"
      ]
     },
     "execution_count": 23,
     "metadata": {},
     "output_type": "execute_result"
    }
   ],
   "source": [
    "# Filtrar sexo e nota da redação\n",
    "sexo_redacao = df.filter(items = ['sexo', 'nota_redacao'])\n",
    "sexo_redacao.head()"
   ]
  },
  {
   "cell_type": "code",
   "execution_count": 24,
   "metadata": {},
   "outputs": [
    {
     "data": {
      "text/html": [
       "<div>\n",
       "<style scoped>\n",
       "    .dataframe tbody tr th:only-of-type {\n",
       "        vertical-align: middle;\n",
       "    }\n",
       "\n",
       "    .dataframe tbody tr th {\n",
       "        vertical-align: top;\n",
       "    }\n",
       "\n",
       "    .dataframe thead th {\n",
       "        text-align: right;\n",
       "    }\n",
       "</style>\n",
       "<table border=\"1\" class=\"dataframe\">\n",
       "  <thead>\n",
       "    <tr style=\"text-align: right;\">\n",
       "      <th></th>\n",
       "      <th>sexo</th>\n",
       "      <th>nota_redacao</th>\n",
       "    </tr>\n",
       "  </thead>\n",
       "  <tbody>\n",
       "    <tr>\n",
       "      <th>2</th>\n",
       "      <td>F</td>\n",
       "      <td>640.0</td>\n",
       "    </tr>\n",
       "    <tr>\n",
       "      <th>7</th>\n",
       "      <td>F</td>\n",
       "      <td>480.0</td>\n",
       "    </tr>\n",
       "    <tr>\n",
       "      <th>16</th>\n",
       "      <td>F</td>\n",
       "      <td>540.0</td>\n",
       "    </tr>\n",
       "    <tr>\n",
       "      <th>24</th>\n",
       "      <td>F</td>\n",
       "      <td>580.0</td>\n",
       "    </tr>\n",
       "    <tr>\n",
       "      <th>30</th>\n",
       "      <td>M</td>\n",
       "      <td>640.0</td>\n",
       "    </tr>\n",
       "  </tbody>\n",
       "</table>\n",
       "</div>"
      ],
      "text/plain": [
       "   sexo  nota_redacao\n",
       "2     F         640.0\n",
       "7     F         480.0\n",
       "16    F         540.0\n",
       "24    F         580.0\n",
       "30    M         640.0"
      ]
     },
     "execution_count": 24,
     "metadata": {},
     "output_type": "execute_result"
    }
   ],
   "source": [
    "# Excluir dados faltantes\n",
    "sexo_redacao = sexo_redacao.dropna()\n",
    "sexo_redacao.head()"
   ]
  },
  {
   "cell_type": "code",
   "execution_count": 25,
   "metadata": {},
   "outputs": [
    {
     "data": {
      "text/plain": [
       "F    525179\n",
       "M    384015\n",
       "Name: sexo, dtype: int64"
      ]
     },
     "execution_count": 25,
     "metadata": {},
     "output_type": "execute_result"
    }
   ],
   "source": [
    "# Contar número de observações por sexo\n",
    "sexo_redacao['sexo'].value_counts()"
   ]
  },
  {
   "cell_type": "code",
   "execution_count": 26,
   "metadata": {},
   "outputs": [
    {
     "data": {
      "text/plain": [
       "F    57.76314\n",
       "M    42.23686\n",
       "Name: sexo, dtype: float64"
      ]
     },
     "execution_count": 26,
     "metadata": {},
     "output_type": "execute_result"
    }
   ],
   "source": [
    "# proporções\n",
    "sexo_redacao['sexo'].value_counts(normalize = True) * 100"
   ]
  },
  {
   "cell_type": "code",
   "execution_count": 27,
   "metadata": {},
   "outputs": [
    {
     "data": {
      "text/html": [
       "<div>\n",
       "<style scoped>\n",
       "    .dataframe tbody tr th:only-of-type {\n",
       "        vertical-align: middle;\n",
       "    }\n",
       "\n",
       "    .dataframe tbody tr th {\n",
       "        vertical-align: top;\n",
       "    }\n",
       "\n",
       "    .dataframe thead th {\n",
       "        text-align: right;\n",
       "    }\n",
       "</style>\n",
       "<table border=\"1\" class=\"dataframe\">\n",
       "  <thead>\n",
       "    <tr style=\"text-align: right;\">\n",
       "      <th></th>\n",
       "      <th>nota_redacao</th>\n",
       "    </tr>\n",
       "    <tr>\n",
       "      <th>sexo</th>\n",
       "      <th></th>\n",
       "    </tr>\n",
       "  </thead>\n",
       "  <tbody>\n",
       "    <tr>\n",
       "      <th>F</th>\n",
       "      <td>596.548377</td>\n",
       "    </tr>\n",
       "    <tr>\n",
       "      <th>M</th>\n",
       "      <td>579.035871</td>\n",
       "    </tr>\n",
       "  </tbody>\n",
       "</table>\n",
       "</div>"
      ],
      "text/plain": [
       "      nota_redacao\n",
       "sexo              \n",
       "F       596.548377\n",
       "M       579.035871"
      ]
     },
     "execution_count": 27,
     "metadata": {},
     "output_type": "execute_result"
    }
   ],
   "source": [
    "# Nota média por sexo\n",
    "sexo_redacao.groupby('sexo').mean()"
   ]
  },
  {
   "cell_type": "code",
   "execution_count": 28,
   "metadata": {},
   "outputs": [
    {
     "data": {
      "image/png": "[encoded data removed]",
      "text/plain": [
       "<Figure size 432x432 with 1 Axes>"
      ]
     },
     "metadata": {
      "needs_background": "light"
     },
     "output_type": "display_data"
    }
   ],
   "source": [
    "plt.figure(figsize = [6, 6])\n",
    "sns.boxplot(data = sexo_redacao, x='sexo', y='nota_redacao', palette=\"Pastel1\")\n",
    "plt.title('Nota da Redação por sexo');"
   ]
  },
  {
   "cell_type": "code",
   "execution_count": 29,
   "metadata": {},
   "outputs": [],
   "source": [
    "df_m, df_f = sexo_redacao.loc[sexo_redacao['sexo']=='M'],   sexo_redacao.loc[sexo_redacao['sexo']=='F']"
   ]
  },
  {
   "cell_type": "code",
   "execution_count": 30,
   "metadata": {},
   "outputs": [
    {
     "data": {
      "image/png": "[encoded data removed]",
      "text/plain": [
       "<Figure size 576x432 with 1 Axes>"
      ]
     },
     "metadata": {
      "needs_background": "light"
     },
     "output_type": "display_data"
    }
   ],
   "source": [
    "plt.figure(figsize=(8,6))\n",
    "plt.hist(df_f['nota_redacao'], bins=50, alpha = 0.5, label='Feminino')\n",
    "plt.hist(df_m['nota_redacao'], bins=50, alpha = 0.5, label='Masculino')\n",
    "plt.legend(loc='upper left')\n",
    "plt.title('Distribuição das notas de redação por sexo');"
   ]
  },
  {
   "cell_type": "code",
   "execution_count": null,
   "metadata": {},
   "outputs": [],
   "source": []
  },
  {
   "cell_type": "code",
   "execution_count": null,
   "metadata": {},
   "outputs": [],
   "source": []
  }
 ],
 "metadata": {
  "kernelspec": {
   "display_name": "Python 3",
   "language": "python",
   "name": "python3"
  },
  "language_info": {
   "codemirror_mode": {
    "name": "ipython",
    "version": 3
   },
   "file_extension": ".py",
   "mimetype": "text/x-python",
   "name": "python",
   "nbconvert_exporter": "python",
   "pygments_lexer": "ipython3",
   "version": "3.7.6"
  }
 },
 "nbformat": 4,
 "nbformat_minor": 4
}
